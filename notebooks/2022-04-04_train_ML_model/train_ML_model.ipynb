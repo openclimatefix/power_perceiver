{
 "cells": [
  {
   "cell_type": "code",
   "execution_count": 2,
   "metadata": {},
   "outputs": [],
   "source": [
    "# General imports\n",
    "from pathlib import Path\n",
    "from dataclasses import dataclass\n",
    "from typing import Optional, Iterable\n",
    "import matplotlib.pyplot as plt\n",
    "\n",
    "# ML imports\n",
    "import torch\n",
    "from torch.utils import data\n",
    "from torch import nn\n",
    "import torch.nn.functional as F\n",
    "import pytorch_lightning as pl\n",
    "import einops\n",
    "\n",
    "# power_perceiver imports\n",
    "from power_perceiver.dataset import NowcastingDataset\n",
    "from power_perceiver.consts import BatchKey\n",
    "from power_perceiver.data_loader import HRVSatellite, PV\n",
    "from power_perceiver.xr_batch_processor import SelectPVSystemsNearCenterOfImage\n",
    "from power_perceiver.np_batch_processor import EncodeSpaceTime\n",
    "from power_perceiver.transforms.satellite import PatchSatellite\n",
    "from power_perceiver.transforms.pv import PVPowerRollingWindow"
   ]
  },
  {
   "cell_type": "code",
   "execution_count": 3,
   "metadata": {},
   "outputs": [],
   "source": [
    "#TRAIN_PATH = Path(\"~/dev/ocf/power_perceiver/data_for_testing/\").expanduser()\n",
    "TRAIN_PATH = Path(\"/mnt/storage_ssd_4tb/data/ocf/solar_pv_nowcasting/nowcasting_dataset_pipeline/prepared_ML_training_data/v15/train/\")\n",
    "assert TRAIN_PATH.exists()"
   ]
  },
  {
   "cell_type": "code",
   "execution_count": 4,
   "metadata": {},
   "outputs": [],
   "source": [
    "train_dataset = NowcastingDataset(\n",
    "    data_path=TRAIN_PATH,\n",
    "    data_loaders=[\n",
    "        HRVSatellite(\n",
    "            transforms=[PatchSatellite()]\n",
    "            ), \n",
    "        PV(\n",
    "            transforms=[PVPowerRollingWindow()]\n",
    "            ),\n",
    "    ],\n",
    "    xr_batch_processors=[SelectPVSystemsNearCenterOfImage()],\n",
    "    np_batch_processors=[EncodeSpaceTime()]\n",
    ")"
   ]
  },
  {
   "cell_type": "code",
   "execution_count": 5,
   "metadata": {},
   "outputs": [],
   "source": [
    "dataloader_kwargs = dict(\n",
    "    batch_size=None,\n",
    "    num_workers=16,\n",
    "    pin_memory=True,\n",
    "    #persistent_workers=False,\n",
    ")\n",
    "\n",
    "train_dataloader = data.DataLoader(\n",
    "    train_dataset,\n",
    "    **dataloader_kwargs\n",
    ")"
   ]
  },
  {
   "cell_type": "code",
   "execution_count": 6,
   "metadata": {},
   "outputs": [],
   "source": [
    "for batch in train_dataloader:\n",
    "    break"
   ]
  },
  {
   "cell_type": "code",
   "execution_count": 7,
   "metadata": {},
   "outputs": [],
   "source": [
    "@dataclass(eq=False)  # See: https://discuss.pytorch.org/t/typeerror-unhashable-type-for-my-torch-nn-module/109424/6\n",
    "class Perceiver(nn.Module):\n",
    "    \"\"\"\n",
    "    Input and output tensors are provided as shape (batch, seq, feature).\n",
    "    \n",
    "    Init args:\n",
    "        num_heads: Number of parallel attention heads. Note that ``embed_dim`` will be split\n",
    "            across ``num_heads`` (i.e. each head will have dimension ``embed_dim // num_heads``).\n",
    "        dropout: Dropout probability on ``attn_output_weights``. Default: ``0.0`` (no dropout).\n",
    "    \"\"\"\n",
    "    query_dim: int\n",
    "    byte_array_dim: int\n",
    "    num_heads: int = 8\n",
    "    dropout: float = 0.0\n",
    "    share_weights_across_latent_transformer_layers: bool = True\n",
    "    num_latent_transformer_encoders: int = 4\n",
    "    \n",
    "    def __post_init__(self):\n",
    "        super().__init__()\n",
    "\n",
    "        # Cross attention\n",
    "        self.cross_attention = nn.MultiheadAttention(\n",
    "            embed_dim=self.query_dim,\n",
    "            num_heads=self.num_heads,\n",
    "            dropout=self.dropout,\n",
    "            batch_first=True,\n",
    "            kdim=self.byte_array_dim,\n",
    "            vdim=self.byte_array_dim\n",
    "        )\n",
    "\n",
    "        # TransformerEncoderLayer is made up of self-attn and feedforward network.\n",
    "        # This standard encoder layer is based on the paper “Attention Is All You Need”\n",
    "        transformer_encoder_layer = nn.TransformerEncoderLayer(\n",
    "            d_model=self.query_dim,\n",
    "            nhead=self.num_heads,\n",
    "            dropout=self.dropout,\n",
    "            batch_first=True\n",
    "        )\n",
    "\n",
    "        if self.share_weights_across_latent_transformer_layers:\n",
    "            transformer_encoder_layers = [transformer_encoder_layer] * self.num_latent_transformer_encoders\n",
    "            self.latent_transformer = nn.Sequential(*transformer_encoder_layers)\n",
    "        else:\n",
    "            self.latent_transformer = nn.TransformerEncoder(\n",
    "                encoder_layer=transformer_encoder_layer,\n",
    "                num_layers=self.num_latent_transformer_encoders,\n",
    "            )\n",
    "\n",
    "    def forward(\n",
    "            self, \n",
    "            query: torch.Tensor, \n",
    "            byte_array: torch.Tensor, \n",
    "            byte_array_padding_mask: Optional[torch.Tensor] = None\n",
    "        ) -> torch.Tensor:\n",
    "        \"\"\"\n",
    "        Args:\n",
    "            query: Query embeddings of shape `(N, L, query_dim)`, where `N` is the batch size,\n",
    "                and `L` is the number of query elements (the target sequence length).\n",
    "                Queries are compared against key-value pairs to produce the output.\n",
    "            byte_array: Key embeddings of shape `(N, S, byte_array_dim)`, where `N` is the batch size, \n",
    "                and `S` is the number of byte_array elements (the source sequence length).\n",
    "            byte_array_padding_mask: If specified, a mask of shape `(N, S)` indicating which \n",
    "                elements within ``byte_array`` to ignore for the purpose of attention (i.e. treat as \"padding\").\n",
    "                Shape should be `(N, S)`. Binary and byte masks are supported.\n",
    "                For a binary mask, a ``True`` value indicates that the corresponding ``byte_array`` value\n",
    "                will be ignored for the purpose of attention. For a byte mask, a non-zero value indicates\n",
    "                that the corresponding ``byte_array`` value will be ignored.\n",
    "                \n",
    "        Returns:\n",
    "            **attn_output** - Attention outputs of shape `(N, L, query_dim)`,\n",
    "                where `N` is the batch size, and\n",
    "                `L` is the number of query elements (the target sequence length).\n",
    "        \"\"\"\n",
    "        attn_output, attn_weights = self.cross_attention(\n",
    "            query=query, \n",
    "            key=byte_array, \n",
    "            value=byte_array, \n",
    "            need_weights=False,  # TODO: Plot attention weights.\n",
    "            key_padding_mask=byte_array_padding_mask,\n",
    "            )\n",
    "        return self.latent_transformer(attn_output)"
   ]
  },
  {
   "cell_type": "code",
   "execution_count": 8,
   "metadata": {},
   "outputs": [
    {
     "data": {
      "text/plain": [
       "torch.Size([992, 256, 32])"
      ]
     },
     "execution_count": 8,
     "metadata": {},
     "output_type": "execute_result"
    }
   ],
   "source": [
    "def repeat_over_time(\n",
    "        x: dict[BatchKey, torch.Tensor],\n",
    "        batch_keys: Iterable[BatchKey], \n",
    "        n_timesteps: int\n",
    "    ) -> list[torch.Tensor]:\n",
    "    repeated_tensors = []\n",
    "    for batch_key in batch_keys:\n",
    "        tensor = x[batch_key]\n",
    "        tensor = einops.repeat(tensor, \"batch_size ... -> batch_size time ...\", time=n_timesteps)\n",
    "        repeated_tensors.append(tensor)\n",
    "    return repeated_tensors\n",
    "\n",
    "\n",
    "class HRVSatelliteProcessor(nn.Module):\n",
    "    def __post_init__(self):\n",
    "        super().__init__()\n",
    "    \n",
    "    def forward(self, x: dict[BatchKey, torch.Tensor]) -> torch.Tensor:\n",
    "        \"\"\"Returns a byte array ready for Perceiver\"\"\"\n",
    "        # Create the byte array\n",
    "        # TODO:\n",
    "        # Append the satellite position encoding onto the \"patch\" dimension.\n",
    "        # Reshape the satellite imagery to the correct shape\n",
    "        \n",
    "        # Ignore the \"channels\" dimension because HRV is just a single channel:\n",
    "        hrvsatellite = x[BatchKey.hrvsatellite][:, :, 0]\n",
    "        \n",
    "        # Repeat the fourier features for each timestep of each example:\n",
    "        n_timesteps = hrvsatellite.shape[1]\n",
    "        y_fourier, x_fourier = repeat_over_time(\n",
    "            x=x, \n",
    "            batch_keys=(BatchKey.hrvsatellite_y_osgb_fourier, BatchKey.hrvsatellite_x_osgb_fourier),\n",
    "            n_timesteps=n_timesteps)\n",
    "        # y_fourier and x_fourier are now of shape batch, time, y, x, n_fourier_features\n",
    "        \n",
    "        # Concatenate spatial fourier features onto satellite imagery:\n",
    "        byte_array = torch.concat((hrvsatellite, y_fourier, x_fourier), dim=-1)\n",
    "\n",
    "        # Reshape so each timestep is seen as a separate example, and the 2D\n",
    "        # image is flattened into a 1D array.\n",
    "        byte_array = einops.rearrange(\n",
    "            byte_array,\n",
    "            \"batch_size time y x patch -> (batch_size time) (y x) patch\"\n",
    "        )\n",
    "        \n",
    "        return byte_array\n",
    "    \n",
    "# Test!\n",
    "HRVSatelliteProcessor()(batch).shape"
   ]
  },
  {
   "cell_type": "code",
   "execution_count": 9,
   "metadata": {},
   "outputs": [
    {
     "data": {
      "text/plain": [
       "torch.Size([32, 128, 8])"
      ]
     },
     "execution_count": 9,
     "metadata": {},
     "output_type": "execute_result"
    }
   ],
   "source": [
    "batch[BatchKey.pv_x_osgb_fourier].shape"
   ]
  },
  {
   "cell_type": "code",
   "execution_count": 10,
   "metadata": {},
   "outputs": [],
   "source": [
    "def masked_mean(tensor: torch.Tensor, mask: torch.Tensor) -> torch.Tensor:\n",
    "    # Adapted from https://discuss.pytorch.org/t/how-to-write-a-loss-function-with-mask/53461/4\n",
    "    masked_tensor = torch.where(mask, tensor, torch.tensor(0, dtype=tensor.dtype, device=tensor.device))\n",
    "    total = masked_tensor.sum()\n",
    "    num_selected_elements = mask.sum()\n",
    "    return total / num_selected_elements\n",
    "\n",
    "\n",
    "@dataclass(eq=False)\n",
    "class QueryGenerator(nn.Module):\n",
    "    \"\"\"Create a query using a learnt array and the locations of the PV systems.\"\"\"\n",
    "    num_fourier_features: int  # TOTAL (for both x and y)\n",
    "    num_elements_query_padding: int\n",
    "    pv_system_id_embedding_dim: int\n",
    "    num_pv_systems: int = 2000\n",
    "    \n",
    "    def __post_init__(self):\n",
    "        super().__init__()\n",
    "        self.query_dim = self.num_fourier_features + self.pv_system_id_embedding_dim\n",
    "        self.query_padding = nn.Parameter(torch.randn(self.num_elements_query_padding, self.query_dim))\n",
    "        self.pv_system_id_embedding = nn.Embedding(\n",
    "            num_embeddings=self.num_pv_systems,\n",
    "            embedding_dim=self.pv_system_id_embedding_dim,\n",
    "        )\n",
    "        \n",
    "    def forward(self, x: dict[BatchKey, torch.Tensor]) -> torch.Tensor:\n",
    "        # Repeat the fourier features for each timestep of each example:\n",
    "        n_timesteps = x[BatchKey.pv].shape[1]\n",
    "        y_fourier, x_fourier, pv_system_row_number = repeat_over_time(\n",
    "            x=x, \n",
    "            batch_keys=(BatchKey.pv_y_osgb_fourier, BatchKey.pv_x_osgb_fourier, BatchKey.pv_system_row_number),\n",
    "            n_timesteps=n_timesteps)\n",
    "        # y_fourier and x_fourier are now of shape (batch, time, n_pv_systems, n_fourier_features)\n",
    "        \n",
    "        pv_system_embedding = self.pv_system_id_embedding(pv_system_row_number)\n",
    "        \n",
    "        pv_system_query = torch.concat((y_fourier, x_fourier, pv_system_embedding), dim=-1)\n",
    "        del y_fourier, x_fourier, pv_system_embedding\n",
    "        \n",
    "        # Missing PV systems are represented as NaN in the fourier features. Fill these with zeros.\n",
    "        # (We do this because we can't mask the *query*. Instead, we'll ignore missing PV\n",
    "        # systems in the objective function.)\n",
    "        pv_system_query = torch.nan_to_num(pv_system_query, nan=0.0)\n",
    "        \n",
    "        # Reshape so every timestep is a different example.\n",
    "        pv_system_query = einops.rearrange(\n",
    "            pv_system_query, \n",
    "            \"batch_size time n_pv_systems query_dim -> (batch_size time) n_pv_systems query_dim\",\n",
    "            query_dim=self.query_dim,\n",
    "            )\n",
    "\n",
    "        # Repeat the learnt query padding for every example in the batch:\n",
    "        batch_size = pv_system_query.shape[0]\n",
    "        batched_query_padding = einops.repeat(\n",
    "            self.query_padding, \n",
    "            \"num_query_elements query_dim -> batch_size num_query_elements query_dim\",\n",
    "            batch_size=batch_size, query_dim=self.query_dim)\n",
    "        query = torch.concat((batched_query_padding, pv_system_query), dim=1)\n",
    "        return query\n",
    "\n",
    "\n",
    "@dataclass(eq=False)  # See https://discuss.pytorch.org/t/typeerror-unhashable-type-for-my-torch-nn-module/109424/6\n",
    "class Model(pl.LightningModule):\n",
    "    # Params for Perceiver\n",
    "    num_fourier_features: int = 16 # TOTAL for both x and y\n",
    "    pv_system_id_embedding_dim: int = 16\n",
    "    byte_array_dim: int = 32\n",
    "    num_heads: int = 8\n",
    "    dropout: float = 0.0\n",
    "    share_weights_across_latent_transformer_layers: bool = False\n",
    "    num_latent_transformer_encoders: int = 4\n",
    "    \n",
    "    # Other params:\n",
    "    num_elements_query_padding: int = 0\n",
    "\n",
    "    def __post_init__(self):\n",
    "        super().__init__()\n",
    "        self.query_dim = self.num_fourier_features + self.pv_system_id_embedding_dim\n",
    "        \n",
    "        self.perceiver = Perceiver(\n",
    "            query_dim=self.query_dim,\n",
    "            byte_array_dim=self.byte_array_dim,\n",
    "            num_heads=self.num_heads,\n",
    "            dropout=self.dropout,\n",
    "            share_weights_across_latent_transformer_layers=self.share_weights_across_latent_transformer_layers,\n",
    "            num_latent_transformer_encoders=self.num_latent_transformer_encoders,\n",
    "            )\n",
    "        \n",
    "        self.hrvsatellite_processor = HRVSatelliteProcessor()\n",
    "        self.query_generator = QueryGenerator(\n",
    "            num_fourier_features=self.num_fourier_features,  # TOTAL (for both x and y)\n",
    "            pv_system_id_embedding_dim=self.pv_system_id_embedding_dim,\n",
    "            num_elements_query_padding=self.num_elements_query_padding)\n",
    "        self.output_module = nn.Sequential(\n",
    "            nn.Linear(in_features=self.query_dim, out_features=self.query_dim),\n",
    "            nn.ReLU(),\n",
    "            nn.Linear(in_features=self.query_dim, out_features=1),\n",
    "        )\n",
    "        \n",
    "    def forward(self, x: dict[BatchKey, torch.Tensor]) -> torch.Tensor:       \n",
    "        original_batch_size = x[BatchKey.pv].shape[0]\n",
    "        byte_array = self.hrvsatellite_processor(x)\n",
    "        query = self.query_generator(x)\n",
    "        attn_output = self.perceiver(query=query, byte_array=byte_array)\n",
    "\n",
    "        # Ignore first num_elements_query_padding elements of the output.\n",
    "        out = attn_output[:, self.num_elements_query_padding:]\n",
    "        \n",
    "        out = self.output_module(out)\n",
    "        \n",
    "        # Reshape back to (batch_size, n_timesteps, ...)\n",
    "        return einops.rearrange(\n",
    "            out, \n",
    "            \"(batch_size n_timesteps) ... -> batch_size n_timesteps ...\", \n",
    "            batch_size=original_batch_size)\n",
    "    \n",
    "    def _training_or_validation_step(\n",
    "            self, \n",
    "            batch: dict[BatchKey, torch.Tensor], \n",
    "            batch_idx: int, \n",
    "            tag: str\n",
    "        ) -> dict[str, object]:\n",
    "        \"\"\"\n",
    "        Args:\n",
    "            batch: The training or validation batch.  A dictionary.\n",
    "            tag: Either \"train\" or \"validation\"\n",
    "            batch_idx: The index of the batch.\n",
    "        \"\"\"\n",
    "        actual_pv_power = batch[BatchKey.pv]\n",
    "        #actual_pv_power = torch.nan_to_num(actual_pv_power, nan=0.0)\n",
    "        actual_pv_power = torch.where(\n",
    "            batch[BatchKey.pv_mask].unsqueeze(1), \n",
    "            actual_pv_power, \n",
    "            torch.tensor(0.0, dtype=actual_pv_power.dtype, device=actual_pv_power.device))\n",
    "        \n",
    "        predicted_pv_power = self(batch).squeeze()\n",
    "        #mse_loss = F.mse_loss(predicted_pv_power, actual_pv_power, reduction=\"none\").mean(dim=1).float()\n",
    "        #mse_loss = masked_mean(mse_loss, mask=batch[BatchKey.pv_mask])        \n",
    "        mse_loss = F.mse_loss(predicted_pv_power, actual_pv_power)\n",
    "        return mse_loss\n",
    "    \n",
    "    def training_step(self, batch: dict[str, torch.Tensor], batch_idx: int):\n",
    "        return self._training_or_validation_step(batch=batch, batch_idx=batch_idx, tag=\"train\")\n",
    "    \n",
    "    def configure_optimizers(self):\n",
    "        optimizer = torch.optim.Adam(self.parameters(), lr=1e-5)\n",
    "        return optimizer\n",
    "    \n"
   ]
  },
  {
   "cell_type": "code",
   "execution_count": 11,
   "metadata": {},
   "outputs": [],
   "source": [
    "\n",
    "model = Model()\n"
   ]
  },
  {
   "cell_type": "code",
   "execution_count": 12,
   "metadata": {},
   "outputs": [
    {
     "data": {
      "text/plain": [
       "torch.float32"
      ]
     },
     "execution_count": 12,
     "metadata": {},
     "output_type": "execute_result"
    }
   ],
   "source": [
    "\n",
    "model_output = model(batch)\n",
    "model_output.dtype"
   ]
  },
  {
   "cell_type": "code",
   "execution_count": 13,
   "metadata": {},
   "outputs": [
    {
     "name": "stderr",
     "output_type": "stream",
     "text": [
      "GPU available: True, used: True\n",
      "TPU available: False, using: 0 TPU cores\n",
      "IPU available: False, using: 0 IPUs\n",
      "HPU available: False, using: 0 HPUs\n"
     ]
    }
   ],
   "source": [
    "trainer = pl.Trainer(\n",
    "    gpus=[0],\n",
    "    max_epochs=-1,\n",
    ")"
   ]
  },
  {
   "cell_type": "code",
   "execution_count": 14,
   "metadata": {},
   "outputs": [
    {
     "name": "stderr",
     "output_type": "stream",
     "text": [
      "LOCAL_RANK: 0 - CUDA_VISIBLE_DEVICES: [0,1,2,3,4,5]\n",
      "\n",
      "  | Name                   | Type                  | Params\n",
      "-----------------------------------------------------------------\n",
      "0 | perceiver              | Perceiver             | 554 K \n",
      "1 | hrvsatellite_processor | HRVSatelliteProcessor | 0     \n",
      "2 | query_generator        | QueryGenerator        | 32.0 K\n",
      "3 | output_module          | Sequential            | 1.1 K \n",
      "-----------------------------------------------------------------\n",
      "587 K     Trainable params\n",
      "0         Non-trainable params\n",
      "587 K     Total params\n",
      "2.349     Total estimated model params size (MB)\n"
     ]
    },
    {
     "name": "stdout",
     "output_type": "stream",
     "text": [
      "Epoch 1:  34%|██████████████▌                            | 2848/8400 [33:35<1:05:29,  1.41it/s, loss=0.00881, v_num=2]"
     ]
    }
   ],
   "source": [
    "trainer.fit(model=model, train_dataloaders=train_dataloader)"
   ]
  },
  {
   "cell_type": "code",
   "execution_count": 15,
   "metadata": {},
   "outputs": [],
   "source": [
    "# 0.0700\n",
    "model_output = model.cpu()(batch)\n"
   ]
  },
  {
   "cell_type": "code",
   "execution_count": 16,
   "metadata": {},
   "outputs": [
    {
     "data": {
      "text/plain": [
       "torch.Size([32, 31, 128, 1])"
      ]
     },
     "execution_count": 16,
     "metadata": {},
     "output_type": "execute_result"
    }
   ],
   "source": [
    "model_output.shape"
   ]
  },
  {
   "cell_type": "code",
   "execution_count": 43,
   "metadata": {},
   "outputs": [
    {
     "data": {
      "text/plain": [
       "tensor([False,  True, False, False,  True,  True, False, False,  True, False,\n",
       "        False, False, False,  True,  True,  True, False, False, False, False,\n",
       "        False,  True,  True,  True, False,  True, False,  True,  True, False,\n",
       "        False, False, False,  True,  True, False,  True, False, False,  True,\n",
       "         True, False, False,  True, False, False,  True, False, False, False,\n",
       "        False, False,  True,  True, False,  True,  True,  True,  True,  True,\n",
       "        False,  True,  True,  True,  True,  True,  True,  True,  True, False,\n",
       "         True,  True,  True,  True, False, False, False,  True,  True, False,\n",
       "         True,  True,  True,  True,  True,  True, False,  True,  True,  True,\n",
       "        False, False,  True,  True,  True,  True,  True, False,  True, False,\n",
       "         True,  True, False, False, False, False, False, False, False, False,\n",
       "        False, False, False, False, False, False, False, False, False, False,\n",
       "        False, False, False, False, False, False, False, False])"
      ]
     },
     "execution_count": 43,
     "metadata": {},
     "output_type": "execute_result"
    }
   ],
   "source": [
    "EXAMPLE_IDX = 2\n",
    "batch[BatchKey.pv_mask][EXAMPLE_IDX]\n"
   ]
  },
  {
   "cell_type": "code",
   "execution_count": 52,
   "metadata": {},
   "outputs": [
    {
     "data": {
      "image/png": "[encoded data removed]",
      "text/plain": [
       "<Figure size 432x288 with 1 Axes>"
      ]
     },
     "metadata": {
      "needs_background": "light"
     },
     "output_type": "display_data"
    }
   ],
   "source": [
    "PV_SYSTEM_IDX = 8\n",
    "ax = plt.axes()\n",
    "ax.plot(model_output[EXAMPLE_IDX, :, PV_SYSTEM_IDX].detach(), label=\"prediction\")\n",
    "ax.plot(batch[BatchKey.pv][EXAMPLE_IDX, :, PV_SYSTEM_IDX], label=\"actual\")\n",
    "ax.legend();"
   ]
  },
  {
   "cell_type": "code",
   "execution_count": 45,
   "metadata": {},
   "outputs": [
    {
     "data": {
      "image/png": "[encoded data removed]",
      "text/plain": [
       "<Figure size 432x288 with 1 Axes>"
      ]
     },
     "metadata": {
      "needs_background": "light"
     },
     "output_type": "display_data"
    }
   ],
   "source": [
    "import numpy as np\n",
    "plt.plot(np.nanmean(batch[BatchKey.pv][EXAMPLE_IDX, :, :], axis=1));"
   ]
  },
  {
   "cell_type": "code",
   "execution_count": null,
   "metadata": {},
   "outputs": [
    {
     "data": {
      "text/plain": [
       "torch.Size([31])"
      ]
     },
     "execution_count": 36,
     "metadata": {},
     "output_type": "execute_result"
    }
   ],
   "source": [
    "model_output[EXAMPLE_IDX, :, PV_SYSTEM_IDX].squeeze().shape"
   ]
  },
  {
   "cell_type": "code",
   "execution_count": 38,
   "metadata": {},
   "outputs": [
    {
     "data": {
      "text/plain": [
       "array([0.26025552, 0.2826984 , 0.32713073, 0.34377894, 0.3367307 ,\n",
       "       0.30448493, 0.28038296, 0.25917023, 0.23946783, 0.21943985,\n",
       "       0.20914887, 0.21423626, 0.21939887, 0.22570351, 0.24262092,\n",
       "       0.26491514, 0.28724864, 0.2948327 , 0.30184537, 0.30128288,\n",
       "       0.28668693, 0.2657919 , 0.25260022, 0.2512227 , 0.2504408 ,\n",
       "       0.25339133, 0.26884007, 0.2886405 , 0.3079026 , 0.32117432,\n",
       "       0.3292083 ], dtype=float32)"
      ]
     },
     "execution_count": 38,
     "metadata": {},
     "output_type": "execute_result"
    }
   ],
   "source": [
    "np.nanmean(batch[BatchKey.pv][EXAMPLE_IDX, :, :], axis=1)"
   ]
  },
  {
   "cell_type": "code",
   "execution_count": null,
   "metadata": {},
   "outputs": [],
   "source": []
  }
 ],
 "metadata": {
  "interpreter": {
   "hash": "6e018056da7ac22974c0de454ad66e6f150c494c7b54611c2027650045c28434"
  },
  "kernelspec": {
   "display_name": "power_perceiver",
   "language": "python",
   "name": "power_perceiver"
  },
  "language_info": {
   "codemirror_mode": {
    "name": "ipython",
    "version": 3
   },
   "file_extension": ".py",
   "mimetype": "text/x-python",
   "name": "python",
   "nbconvert_exporter": "python",
   "pygments_lexer": "ipython3",
   "version": "3.10.4"
  },
  "orig_nbformat": 4
 },
 "nbformat": 4,
 "nbformat_minor": 2
}
