{
 "cells": [
  {
   "cell_type": "code",
   "execution_count": 314,
   "metadata": {},
   "outputs": [],
   "source": [
    "# General imports\n",
    "from pathlib import Path\n",
    "from dataclasses import dataclass\n",
    "from typing import Optional, Iterable, Any\n",
    "import matplotlib.pyplot as plt\n",
    "import numpy as np\n",
    "import pandas as pd\n",
    "\n",
    "plt.rcParams[\"figure.figsize\"] = (18, 10)\n",
    "plt.rcParams[\"figure.facecolor\"] = \"white\"\n",
    "\n",
    "# ML imports\n",
    "import torch\n",
    "from torch.utils import data\n",
    "from torch import nn\n",
    "import torch.nn.functional as F\n",
    "import einops\n",
    "import pytorch_lightning as pl\n",
    "from pytorch_lightning.loggers import WandbLogger\n",
    "import wandb\n",
    "import sklearn.manifold\n",
    "\n",
    "# power_perceiver imports\n",
    "from power_perceiver.dataset import NowcastingDataset\n",
    "from power_perceiver.consts import BatchKey\n",
    "from power_perceiver.data_loader import HRVSatellite, PV, Sun\n",
    "from power_perceiver.xr_batch_processor import SelectPVSystemsNearCenterOfImage, ReduceNumPVSystems, ReduceNumTimesteps\n",
    "from power_perceiver.np_batch_processor import EncodeSpaceTime\n",
    "from power_perceiver.transforms.satellite import PatchSatellite\n",
    "from power_perceiver.transforms.pv import PVPowerRollingWindow"
   ]
  },
  {
   "cell_type": "code",
   "execution_count": 315,
   "metadata": {},
   "outputs": [],
   "source": [
    "#DATA_PATH = Path(\"~/dev/ocf/power_perceiver/data_for_testing/\").expanduser()\n",
    "\n",
    "DATA_PATH = Path(\n",
    "    \"/mnt/storage_ssd_4tb/data/ocf/solar_pv_nowcasting/nowcasting_dataset_pipeline/prepared_ML_training_data/v15/\")\n",
    "assert DATA_PATH.exists()"
   ]
  },
  {
   "cell_type": "code",
   "execution_count": 316,
   "metadata": {},
   "outputs": [],
   "source": [
    "def get_dataloader(data_path: Path, tag: str) -> data.DataLoader:\n",
    "    assert tag in [\"train\", \"validation\"]\n",
    "    assert data_path.exists()\n",
    "    \n",
    "    xr_batch_processors = [\n",
    "        SelectPVSystemsNearCenterOfImage(),\n",
    "        ReduceNumPVSystems(requested_num_pv_systems=8),\n",
    "        ]\n",
    "    \n",
    "    if tag == \"train\":\n",
    "        xr_batch_processors.append(ReduceNumTimesteps(requested_timesteps=[2, 10, 18, 26]))\n",
    "    \n",
    "    dataset = NowcastingDataset(\n",
    "        data_path=data_path,\n",
    "        data_loaders=[\n",
    "            HRVSatellite(\n",
    "                transforms=[PatchSatellite()]\n",
    "                ), \n",
    "            PV(\n",
    "                transforms=[PVPowerRollingWindow()]\n",
    "                ),\n",
    "            Sun(),\n",
    "        ],\n",
    "        xr_batch_processors=xr_batch_processors,\n",
    "        np_batch_processors=[EncodeSpaceTime()]\n",
    "    )\n",
    "\n",
    "    dataloader = data.DataLoader(\n",
    "        dataset,\n",
    "        batch_size=None,\n",
    "        num_workers=16,\n",
    "        pin_memory=True,\n",
    "    )\n",
    "    \n",
    "    return dataloader\n",
    "\n",
    "#train_dataloader = get_dataloader(DATA_PATH)\n",
    "train_dataloader = get_dataloader(DATA_PATH / \"train\", tag=\"train\")\n",
    "val_dataloader = get_dataloader(DATA_PATH / \"test\", tag=\"validation\")"
   ]
  },
  {
   "cell_type": "code",
   "execution_count": 317,
   "metadata": {},
   "outputs": [],
   "source": [
    "for batch in train_dataloader:\n",
    "    break"
   ]
  },
  {
   "cell_type": "code",
   "execution_count": 318,
   "metadata": {},
   "outputs": [
    {
     "data": {
      "text/plain": [
       "torch.Size([32, 4, 8])"
      ]
     },
     "execution_count": 318,
     "metadata": {},
     "output_type": "execute_result"
    }
   ],
   "source": [
    "batch[BatchKey.pv].shape"
   ]
  },
  {
   "cell_type": "code",
   "execution_count": 319,
   "metadata": {},
   "outputs": [
    {
     "data": {
      "text/plain": [
       "torch.Size([32, 4])"
      ]
     },
     "execution_count": 319,
     "metadata": {},
     "output_type": "execute_result"
    }
   ],
   "source": [
    "batch[BatchKey.pv_time_utc].shape"
   ]
  },
  {
   "cell_type": "code",
   "execution_count": 130,
   "metadata": {},
   "outputs": [],
   "source": [
    "class TransformerEncoderLayerForVisualisingWieghts(nn.TransformerEncoderLayer):\n",
    "    def _sa_block(\n",
    "            self, \n",
    "            x: torch.Tensor,\n",
    "            attn_mask: Optional[torch.Tensor], \n",
    "            key_padding_mask: Optional[torch.Tensor]\n",
    "        ) -> torch.Tensor:\n",
    "        \n",
    "        # The only change we make is to pass in all the parameters as\n",
    "        # *positional* parameters (not keyword) so the forward_pre_hook\n",
    "        # can access and modify them :)\n",
    "        need_weights = False\n",
    "        x = self.self_attn(x, x, x, key_padding_mask, need_weights, attn_mask)[0]\n",
    "        return self.dropout1(x)\n",
    "\n",
    "\n",
    "@dataclass(eq=False)\n",
    "class MultiLayerTransformerEncoder(nn.Module):\n",
    "    d_model: int\n",
    "    num_heads: int = 8\n",
    "    dropout: float = 0.0\n",
    "    share_weights_across_latent_transformer_layers: bool = True\n",
    "    num_latent_transformer_encoders: int = 4\n",
    "    \n",
    "    def __post_init__(self):\n",
    "        super().__init__()\n",
    "\n",
    "        # TransformerEncoderLayer is made up of self-attn and feedforward network.\n",
    "        # This standard encoder layer is based on the paper “Attention Is All You Need”\n",
    "        transformer_encoder_layer = TransformerEncoderLayerForVisualisingWieghts(\n",
    "            d_model=self.d_model,\n",
    "            nhead=self.num_heads,\n",
    "            dropout=self.dropout,\n",
    "            batch_first=True\n",
    "        )\n",
    "\n",
    "        if self.share_weights_across_latent_transformer_layers:\n",
    "            transformer_encoder_layers = [transformer_encoder_layer] * self.num_latent_transformer_encoders\n",
    "            self.transformer_encoder = nn.Sequential(*transformer_encoder_layers)\n",
    "        else:\n",
    "            self.transformer_encoder = nn.TransformerEncoder(\n",
    "                encoder_layer=transformer_encoder_layer,\n",
    "                num_layers=self.num_latent_transformer_encoders,\n",
    "            )\n",
    "            \n",
    "    def forward(self, *args, **kwargs):\n",
    "        return self.transformer_encoder(*args, **kwargs)\n",
    "\n",
    "\n",
    "@dataclass(eq=False)  # See: https://discuss.pytorch.org/t/typeerror-unhashable-type-for-my-torch-nn-module/109424/6\n",
    "class Perceiver(nn.Module):\n",
    "    \"\"\"\n",
    "    Input and output tensors are provided as shape (batch, seq, feature).\n",
    "    \n",
    "    Init args:\n",
    "        num_heads: Number of parallel attention heads. Note that ``embed_dim`` will be split\n",
    "            across ``num_heads`` (i.e. each head will have dimension ``embed_dim // num_heads``).\n",
    "        dropout: Dropout probability on ``attn_output_weights``. Default: ``0.0`` (no dropout).\n",
    "    \"\"\"\n",
    "    query_dim: int\n",
    "    byte_array_dim: int\n",
    "    num_heads: int = 8\n",
    "    dropout: float = 0.0\n",
    "    share_weights_across_latent_transformer_layers: bool = True\n",
    "    num_latent_transformer_encoders: int = 4\n",
    "    \n",
    "    def __post_init__(self):\n",
    "        super().__init__()\n",
    "\n",
    "        # Cross attention\n",
    "        self.cross_attention = nn.MultiheadAttention(\n",
    "            embed_dim=self.query_dim,\n",
    "            num_heads=self.num_heads,\n",
    "            dropout=self.dropout,\n",
    "            batch_first=True,\n",
    "            kdim=self.byte_array_dim,\n",
    "            vdim=self.byte_array_dim\n",
    "        )\n",
    "        \n",
    "        self.latent_transformer = MultiLayerTransformerEncoder(\n",
    "            d_model=self.query_dim, \n",
    "            num_heads=self.num_heads,\n",
    "            dropout=self.dropout,\n",
    "            share_weights_across_latent_transformer_layers=self.share_weights_across_latent_transformer_layers,\n",
    "            num_latent_transformer_encoders=self.num_latent_transformer_encoders,\n",
    "            )\n",
    "\n",
    "    def forward(\n",
    "            self, \n",
    "            query: torch.Tensor, \n",
    "            byte_array: torch.Tensor, \n",
    "            byte_array_padding_mask: Optional[torch.Tensor] = None\n",
    "        ) -> torch.Tensor:\n",
    "        \"\"\"\n",
    "        Args:\n",
    "            query: Query embeddings of shape `(N, L, query_dim)`, where `N` is the batch size,\n",
    "                and `L` is the number of query elements (the target sequence length).\n",
    "                Queries are compared against key-value pairs to produce the output.\n",
    "            byte_array: Key embeddings of shape `(N, S, byte_array_dim)`, where `N` is the batch size, \n",
    "                and `S` is the number of byte_array elements (the source sequence length).\n",
    "            byte_array_padding_mask: If specified, a mask of shape `(N, S)` indicating which \n",
    "                elements within ``byte_array`` to ignore for the purpose of attention (i.e. treat as \"padding\").\n",
    "                Shape should be `(N, S)`. Binary and byte masks are supported.\n",
    "                For a binary mask, a ``True`` value indicates that the corresponding ``byte_array`` value\n",
    "                will be ignored for the purpose of attention. For a byte mask, a non-zero value indicates\n",
    "                that the corresponding ``byte_array`` value will be ignored.\n",
    "                \n",
    "        Returns:\n",
    "            **attn_output** - Attention outputs of shape `(N, L, query_dim)`,\n",
    "                where `N` is the batch size, and\n",
    "                `L` is the number of query elements (the target sequence length).\n",
    "        \"\"\"\n",
    "        attn_output, attn_weights = self.cross_attention(\n",
    "            query=query, \n",
    "            key=byte_array, \n",
    "            value=byte_array, \n",
    "            need_weights=False,  # TODO: Plot attention weights.\n",
    "            key_padding_mask=byte_array_padding_mask,\n",
    "            )\n",
    "        return self.latent_transformer(attn_output)"
   ]
  },
  {
   "cell_type": "code",
   "execution_count": 9,
   "metadata": {},
   "outputs": [
    {
     "data": {
      "text/plain": [
       "torch.Size([128, 256, 34])"
      ]
     },
     "execution_count": 9,
     "metadata": {},
     "output_type": "execute_result"
    }
   ],
   "source": [
    "def repeat_over_time(\n",
    "        x: dict[BatchKey, torch.Tensor],\n",
    "        batch_keys: Iterable[BatchKey], \n",
    "        n_timesteps: int\n",
    "    ) -> list[torch.Tensor]:\n",
    "    repeated_tensors = []\n",
    "    for batch_key in batch_keys:\n",
    "        tensor = x[batch_key]\n",
    "        tensor = einops.repeat(tensor, \"batch_size ... -> batch_size time ...\", time=n_timesteps)\n",
    "        repeated_tensors.append(tensor)\n",
    "    return repeated_tensors\n",
    "\n",
    "\n",
    "class HRVSatelliteProcessor(nn.Module):\n",
    "    def __post_init__(self):\n",
    "        super().__init__()\n",
    "    \n",
    "    def forward(self, x: dict[BatchKey, torch.Tensor]) -> torch.Tensor:\n",
    "        \"\"\"Returns a byte array ready for Perceiver\"\"\"\n",
    "        # Create the byte array\n",
    "        # TODO:\n",
    "        # Append the satellite position encoding onto the \"patch\" dimension.\n",
    "        # Reshape the satellite imagery to the correct shape\n",
    "        \n",
    "        # Ignore the \"channels\" dimension because HRV is just a single channel:\n",
    "        hrvsatellite = x[BatchKey.hrvsatellite][:, :, 0]\n",
    "        \n",
    "        # Repeat the fourier features for each timestep of each example:\n",
    "        n_timesteps = hrvsatellite.shape[1]\n",
    "        y_fourier, x_fourier = repeat_over_time(\n",
    "            x=x, \n",
    "            batch_keys=(\n",
    "                BatchKey.hrvsatellite_y_osgb_fourier, \n",
    "                BatchKey.hrvsatellite_x_osgb_fourier,\n",
    "                ),\n",
    "            n_timesteps=n_timesteps)\n",
    "        # y_fourier and x_fourier are now of shape batch, time, y, x, n_fourier_features\n",
    "        \n",
    "        # Reshape solar features to: batch, time, y, x, 1\n",
    "        def _repeat_solar_feature_over_x_and_y(solar_feature: torch.Tensor) -> torch.Tensor:\n",
    "            return einops.repeat(\n",
    "                solar_feature, \n",
    "                \"batch time -> batch time y x 1\", \n",
    "                y=hrvsatellite.shape[2],\n",
    "                x=hrvsatellite.shape[3],\n",
    "                )\n",
    "        solar_azimuth = _repeat_solar_feature_over_x_and_y(x[BatchKey.solar_azimuth])\n",
    "        solar_elevation = _repeat_solar_feature_over_x_and_y(x[BatchKey.solar_elevation])\n",
    "        \n",
    "        # Concatenate spatial fourier features and solar features onto satellite imagery:\n",
    "        byte_array = torch.concat((hrvsatellite, y_fourier, x_fourier, solar_azimuth, solar_elevation), dim=-1)\n",
    "\n",
    "        # Reshape so each timestep is seen as a separate example, and the 2D\n",
    "        # image is flattened into a 1D array.\n",
    "        byte_array = einops.rearrange(\n",
    "            byte_array,\n",
    "            \"batch_size time y x feature -> (batch_size time) (y x) feature\"\n",
    "        )\n",
    "        \n",
    "        return byte_array\n",
    "    \n",
    "# Test!\n",
    "HRVSatelliteProcessor()(batch).shape"
   ]
  },
  {
   "cell_type": "code",
   "execution_count": 10,
   "metadata": {},
   "outputs": [
    {
     "data": {
      "text/plain": [
       "torch.Size([32, 4, 8])"
      ]
     },
     "execution_count": 10,
     "metadata": {},
     "output_type": "execute_result"
    }
   ],
   "source": [
    "batch[BatchKey.pv].shape"
   ]
  },
  {
   "cell_type": "code",
   "execution_count": 131,
   "metadata": {},
   "outputs": [],
   "source": [
    "def masked_mean(tensor: torch.Tensor, mask: torch.Tensor) -> torch.Tensor:\n",
    "    # Adapted from https://discuss.pytorch.org/t/how-to-write-a-loss-function-with-mask/53461/4\n",
    "    masked_tensor = torch.where(mask, tensor, torch.tensor(0, dtype=tensor.dtype, device=tensor.device))\n",
    "    total = masked_tensor.sum()\n",
    "    num_selected_elements = mask.sum()\n",
    "    return total / num_selected_elements\n",
    "\n",
    "\n",
    "@dataclass(eq=False)\n",
    "class QueryGenerator(nn.Module):\n",
    "    \"\"\"Create a query using a learnt array and the locations of the PV systems.\"\"\"\n",
    "    num_fourier_features: int  # TOTAL (for both x and y)\n",
    "    num_elements_query_padding: int\n",
    "    pv_system_id_embedding_dim: int\n",
    "    num_pv_systems: int = 2000  # TODO: Set this to the correct number!\n",
    "    \n",
    "    def __post_init__(self):\n",
    "        super().__init__()\n",
    "        # Plus two for solar azimuth and elevation\n",
    "        self.query_dim = self.num_fourier_features + self.pv_system_id_embedding_dim + 2\n",
    "        self.query_padding = nn.Parameter(\n",
    "            torch.randn(self.num_elements_query_padding, self.query_dim) / 5)\n",
    "        self.pv_system_id_embedding = nn.Embedding(\n",
    "            num_embeddings=self.num_pv_systems,\n",
    "            embedding_dim=self.pv_system_id_embedding_dim,\n",
    "        )\n",
    "        \n",
    "    def forward(self, x: dict[BatchKey, torch.Tensor]) -> torch.Tensor:\n",
    "        # Repeat the fourier features for each timestep of each example:\n",
    "        n_timesteps = x[BatchKey.pv].shape[1]\n",
    "        y_fourier, x_fourier, pv_system_row_number = repeat_over_time(\n",
    "            x=x, \n",
    "            batch_keys=(BatchKey.pv_y_osgb_fourier, BatchKey.pv_x_osgb_fourier, BatchKey.pv_system_row_number),\n",
    "            n_timesteps=n_timesteps)\n",
    "        # y_fourier and x_fourier are now of shape (batch, time, n_pv_systems, n_fourier_features)\n",
    "        \n",
    "        # Reshape solar features to: batch, time, n_pv_systems, 1\n",
    "        def _repeat_solar_feature_over_x_and_y(solar_feature: torch.Tensor) -> torch.Tensor:\n",
    "            return einops.repeat(\n",
    "                solar_feature, \n",
    "                \"batch time -> batch time n_pv_systems 1\", \n",
    "                n_pv_systems=x[BatchKey.pv_x_osgb].shape[1],\n",
    "                )\n",
    "        solar_azimuth = _repeat_solar_feature_over_x_and_y(x[BatchKey.solar_azimuth])\n",
    "        solar_elevation = _repeat_solar_feature_over_x_and_y(x[BatchKey.solar_elevation])\n",
    "        \n",
    "        pv_system_embedding = self.pv_system_id_embedding(pv_system_row_number)\n",
    "        \n",
    "        pv_system_query = torch.concat(\n",
    "            (y_fourier, x_fourier, pv_system_embedding, solar_azimuth, solar_elevation),\n",
    "            dim=-1)\n",
    "        del y_fourier, x_fourier, pv_system_embedding\n",
    "        \n",
    "        # Missing PV systems are represented as NaN in the fourier features. Fill these with zeros.\n",
    "        # (We do this because we can't mask the *query*. Instead, we'll ignore missing PV\n",
    "        # systems in the objective function.)\n",
    "        pv_system_query = torch.nan_to_num(pv_system_query, nan=0.0)\n",
    "        \n",
    "        # Reshape so every timestep is a different example.\n",
    "        pv_system_query = einops.rearrange(\n",
    "            pv_system_query, \n",
    "            \"batch_size time n_pv_systems query_dim -> (batch_size time) n_pv_systems query_dim\",\n",
    "            query_dim=self.query_dim,\n",
    "            )\n",
    "\n",
    "        # Repeat the learnt query padding for every example in the batch:\n",
    "        batch_size = pv_system_query.shape[0]\n",
    "        batched_query_padding = einops.repeat(\n",
    "            self.query_padding, \n",
    "            \"num_query_elements query_dim -> batch_size num_query_elements query_dim\",\n",
    "            batch_size=batch_size, query_dim=self.query_dim)\n",
    "        query = torch.concat((batched_query_padding, pv_system_query), dim=1)\n",
    "        return query\n",
    "\n",
    "\n",
    "@dataclass(eq=False)  # See https://discuss.pytorch.org/t/typeerror-unhashable-type-for-my-torch-nn-module/109424/6\n",
    "class Model(pl.LightningModule):\n",
    "    # Params for Perceiver\n",
    "    num_fourier_features: int = 16 # TOTAL for both x and y\n",
    "    pv_system_id_embedding_dim: int = 16\n",
    "    byte_array_dim: int = 34\n",
    "    num_heads: int = 6\n",
    "    dropout: float = 0.0\n",
    "    share_weights_across_latent_transformer_layers: bool = False\n",
    "    num_latent_transformer_encoders: int = 4\n",
    "    num_zeros_to_pad: int = 2  # Quick hack to allow us to use more heads!\n",
    "    \n",
    "    # Other params:\n",
    "    num_elements_query_padding: int = 0\n",
    "\n",
    "    def __post_init__(self):\n",
    "        super().__init__()\n",
    "        self.hrvsatellite_processor = HRVSatelliteProcessor()\n",
    "        \n",
    "        self.query_generator = QueryGenerator(\n",
    "            num_fourier_features=self.num_fourier_features,  # TOTAL (for both x and y)\n",
    "            pv_system_id_embedding_dim=self.pv_system_id_embedding_dim,\n",
    "            num_elements_query_padding=self.num_elements_query_padding)\n",
    "\n",
    "        # While we're using the MultiLayerTransformerEncoder:\n",
    "        assert self.query_generator.query_dim == self.byte_array_dim, f\"{self.query_generator.query_dim=} != {self.byte_array_dim=}\"\n",
    "        \n",
    "        self.query_dim = self.query_generator.query_dim + self.num_zeros_to_pad\n",
    "        \n",
    "        self.transformer_encoder = MultiLayerTransformerEncoder(\n",
    "            d_model=self.query_dim, \n",
    "            num_heads=self.num_heads,\n",
    "            dropout=self.dropout,\n",
    "            share_weights_across_latent_transformer_layers=self.share_weights_across_latent_transformer_layers,\n",
    "            num_latent_transformer_encoders=self.num_latent_transformer_encoders,\n",
    "            )\n",
    "        \n",
    "        \"\"\"\n",
    "        self.perceiver = Perceiver(\n",
    "            query_dim=self.query_dim,\n",
    "            byte_array_dim=self.byte_array_dim,\n",
    "            num_heads=self.num_heads,\n",
    "            dropout=self.dropout,\n",
    "            share_weights_across_latent_transformer_layers=self.share_weights_across_latent_transformer_layers,\n",
    "            num_latent_transformer_encoders=self.num_latent_transformer_encoders,\n",
    "            )\n",
    "        \"\"\"\n",
    "        \n",
    "        self.output_module = nn.Sequential(\n",
    "            nn.Linear(in_features=self.query_dim, out_features=self.query_dim),\n",
    "            nn.ReLU(),\n",
    "            nn.Linear(in_features=self.query_dim, out_features=1),\n",
    "        )\n",
    "\n",
    "        # Do this at the end of __post_init__ to capture model topology:\n",
    "        self.save_hyperparameters()\n",
    "        \n",
    "    def forward(self, x: dict[BatchKey, torch.Tensor]) -> torch.Tensor:       \n",
    "        original_batch_size = x[BatchKey.pv].shape[0]\n",
    "        byte_array = self.hrvsatellite_processor(x)\n",
    "        query = self.query_generator(x)\n",
    "        \n",
    "        attn_input = torch.concat((byte_array, query), dim=1)\n",
    "        if self.num_zeros_to_pad:\n",
    "            zero_padding_shape = attn_input.shape[:2] + (self.num_zeros_to_pad,)\n",
    "            zero_padding = torch.zeros(\n",
    "                *zero_padding_shape, \n",
    "                dtype=attn_input.dtype,\n",
    "                device=attn_input.device,\n",
    "                )\n",
    "            attn_input = torch.concat((attn_input, zero_padding), dim=2)\n",
    "        attn_output = self.transformer_encoder(attn_input)\n",
    "\n",
    "        # Ignore first num_elements_query_padding elements of the output.\n",
    "        out = attn_output[:, byte_array.shape[1]:]\n",
    "        \n",
    "        out = self.output_module(out)\n",
    "        \n",
    "        # Reshape back to (batch_size, n_timesteps, ...)\n",
    "        return einops.rearrange(\n",
    "            out, \n",
    "            \"(batch_size n_timesteps) ... -> batch_size n_timesteps ...\", \n",
    "            batch_size=original_batch_size)\n",
    "    \n",
    "    def _training_or_validation_step(\n",
    "            self, \n",
    "            batch: dict[BatchKey, torch.Tensor], \n",
    "            batch_idx: int, \n",
    "            tag: str\n",
    "        ) -> dict[str, object]:\n",
    "        \"\"\"\n",
    "        Args:\n",
    "            batch: The training or validation batch.  A dictionary.\n",
    "            tag: Either \"train\" or \"validation\"\n",
    "            batch_idx: The index of the batch.\n",
    "        \"\"\"\n",
    "        actual_pv_power = batch[BatchKey.pv]\n",
    "        #actual_pv_power = torch.nan_to_num(actual_pv_power, nan=0.0)\n",
    "        actual_pv_power = torch.where(\n",
    "            batch[BatchKey.pv_mask].unsqueeze(1), \n",
    "            actual_pv_power, \n",
    "            torch.tensor(0.0, dtype=actual_pv_power.dtype, device=actual_pv_power.device))\n",
    "\n",
    "        predicted_pv_power = self(batch).squeeze()\n",
    "        #mse_loss = F.mse_loss(predicted_pv_power, actual_pv_power, reduction=\"none\").mean(dim=1).float()\n",
    "        #mse_loss = masked_mean(mse_loss, mask=batch[BatchKey.pv_mask])        \n",
    "        mse_loss = F.mse_loss(predicted_pv_power, actual_pv_power)\n",
    "        \n",
    "        self.log(f\"{tag}/mse\", mse_loss)\n",
    "        \n",
    "        return {\n",
    "            'loss': mse_loss,\n",
    "            'predicted_pv_power': predicted_pv_power,\n",
    "            }\n",
    "    \n",
    "    def training_step(self, batch: dict[BatchKey, torch.Tensor], batch_idx: int) -> dict[str, object]:\n",
    "        return self._training_or_validation_step(batch=batch, batch_idx=batch_idx, tag=\"train\")\n",
    "    \n",
    "    def validation_step(self, batch: dict[BatchKey, torch.Tensor], batch_idx: int) -> dict[str, object]:\n",
    "        return self._training_or_validation_step(batch=batch, batch_idx=batch_idx, tag=\"validation\")\n",
    "    \n",
    "    def configure_optimizers(self):\n",
    "        optimizer = torch.optim.Adam(self.parameters(), lr=1e-4)\n",
    "        return optimizer"
   ]
  },
  {
   "cell_type": "code",
   "execution_count": 12,
   "metadata": {},
   "outputs": [],
   "source": [
    "class CustomCallback(pl.Callback):\n",
    "    def on_train_batch_end(\n",
    "            self,\n",
    "            trainer: pl.Trainer,\n",
    "            pl_module: pl.LightningModule,\n",
    "            outputs: Optional[dict[str, object]],\n",
    "            batch: Any,\n",
    "            batch_idx: int,\n",
    "            dataloader_idx: int,\n",
    "        ) -> None:\n",
    "        self._on_batch_end(\n",
    "            trainer=trainer, pl_module=pl_module, outputs=outputs, batch=batch, \n",
    "            batch_idx=batch_idx, dataloader_idx=dataloader_idx, tag=\"train\")\n",
    "\n",
    "    def on_validation_batch_end(\n",
    "            self,\n",
    "            trainer: pl.Trainer,\n",
    "            pl_module: pl.LightningModule,\n",
    "            outputs: Optional[dict[str, object]],\n",
    "            batch: Any,\n",
    "            batch_idx: int,\n",
    "            dataloader_idx: int,\n",
    "        ) -> None:\n",
    "        self._on_batch_end(\n",
    "            trainer=trainer, pl_module=pl_module, outputs=outputs, batch=batch, \n",
    "            batch_idx=batch_idx, dataloader_idx=dataloader_idx, tag=\"validation\")"
   ]
  },
  {
   "cell_type": "code",
   "execution_count": 13,
   "metadata": {},
   "outputs": [],
   "source": [
    "import pandas as pd\n",
    "\n",
    "def plot_pv_power(\n",
    "        actual_pv_power: torch.Tensor,\n",
    "        predicted_pv_power: torch.Tensor,\n",
    "        example_idx: int,\n",
    "        datetimes: torch.Tensor,\n",
    "    ) -> plt.Figure:\n",
    "    fig, (ax_actual, ax_predicted) = plt.subplots(nrows=2, sharex=True)\n",
    "    \n",
    "    datetimes = pd.to_datetime(datetimes[example_idx], unit=\"s\")\n",
    "    \n",
    "    def _plot(ax, data, title):\n",
    "        ax.plot(datetimes, data[example_idx].squeeze())\n",
    "        ax.set_title(title)    \n",
    "        ax.set_ylabel(\"PV power\")\n",
    "        ax.set_xlabel(\"Timestep\")                \n",
    "    \n",
    "    _plot(ax_actual, actual_pv_power, \"Actual PV power\")\n",
    "    _plot(ax_predicted, predicted_pv_power, \"Predicted PV power\")\n",
    "    \n",
    "    return fig\n",
    "\n",
    "\n",
    "class LogTimeseriesPlots(CustomCallback):\n",
    "    def _on_batch_end(\n",
    "            self,\n",
    "            trainer: pl.Trainer,\n",
    "            pl_module: pl.LightningModule,\n",
    "            outputs: Optional[dict[str, object]],\n",
    "            batch: Any,\n",
    "            batch_idx: int,\n",
    "            dataloader_idx: int,\n",
    "            tag: str,\n",
    "        ) -> None:\n",
    "        \"\"\"Called when the training batch ends.\n",
    "        \n",
    "        Args:\n",
    "            outputs: The output from Model.training_step\n",
    "            tag: train or validation\n",
    "        \"\"\"\n",
    "        EXAMPLE_IDX = 0\n",
    "        predicted_pv_power = outputs[\"predicted_pv_power\"].cpu().detach()\n",
    "        actual_pv_power = batch[BatchKey.pv].cpu()\n",
    "        datetimes = batch[BatchKey.pv_time_utc].cpu()\n",
    "        if batch_idx < 4:\n",
    "            fig = plot_pv_power(actual_pv_power, predicted_pv_power, EXAMPLE_IDX, datetimes=datetimes)\n",
    "            wandb.log(\n",
    "                {\n",
    "                    f\"{tag}/pv_power/{batch_idx=}\": wandb.Image(fig),\n",
    "                    \"global_step\": trainer.global_step,\n",
    "                    },\n",
    "                )\n",
    "            plt.close(fig)"
   ]
  },
  {
   "cell_type": "code",
   "execution_count": 14,
   "metadata": {},
   "outputs": [],
   "source": [
    "def plot_tsne_of_pv_system_id_embedding(\n",
    "        batch: dict[BatchKey, torch.Tensor],\n",
    "        example_idx: int,\n",
    "    ) -> plt.Figure:\n",
    "    pv_system_row_number = batch[BatchKey.pv_system_row_number][example_idx]\n",
    "    pv_mask = batch[BatchKey.pv_mask][example_idx]\n",
    "    pv_system_row_number = pv_system_row_number[pv_mask]\n",
    "\n",
    "    pv_id_embedding = model.query_generator.pv_system_id_embedding(pv_system_row_number)\n",
    "    pv_id_embedding = pv_id_embedding.detach().cpu()\n",
    "\n",
    "    tsne = sklearn.manifold.TSNE(n_components=2, init=\"pca\", learning_rate=\"auto\")\n",
    "    tsne = tsne.fit_transform(pv_id_embedding)\n",
    "\n",
    "    fig, ax = plt.subplots()\n",
    "    ax.scatter(x=tsne[:, 0], y=tsne[:, 1], alpha=0.8)\n",
    "    ax.set_title(\"t-SNE of PV system ID embedding\")\n",
    "    \n",
    "    return fig\n",
    "\n",
    "\n",
    "class LogTSNEPlot(CustomCallback):\n",
    "    def _on_batch_end(\n",
    "            self,\n",
    "            trainer: pl.Trainer,\n",
    "            pl_module: pl.LightningModule,\n",
    "            outputs: Optional[dict[str, object]],\n",
    "            batch: Any,\n",
    "            batch_idx: int,\n",
    "            dataloader_idx: int,\n",
    "            tag: str,\n",
    "        ) -> None:\n",
    "        \"\"\"Called when the training batch ends.\n",
    "        \n",
    "        Args:\n",
    "            outputs: The output from Model.training_step\n",
    "            tag: train or validation\n",
    "        \"\"\"\n",
    "        EXAMPLE_IDX = 0\n",
    "        if batch_idx == 0:\n",
    "            fig = plot_tsne_of_pv_system_id_embedding(batch, EXAMPLE_IDX)\n",
    "            wandb.log(\n",
    "                {\n",
    "                    # Need to convert to image to avoid bug in matplotlib to plotly conversion\n",
    "                    f\"{tag}/tsne\": wandb.Image(fig),\n",
    "                    \"global_step\": trainer.global_step,\n",
    "                    },\n",
    "                )\n",
    "            plt.close(fig)"
   ]
  },
  {
   "cell_type": "code",
   "execution_count": 169,
   "metadata": {},
   "outputs": [],
   "source": [
    "#model = Model()\n",
    "model = Model.load_from_checkpoint(\n",
    "    \"~/dev/ocf/power_perceiver/notebooks/2022-04-04_train_ML_model/model.ckpt\")\n"
   ]
  },
  {
   "cell_type": "code",
   "execution_count": 170,
   "metadata": {},
   "outputs": [],
   "source": [
    "from typing import Callable\n",
    "\n",
    "\n",
    "def forward_pre_hook(module, args) -> tuple:\n",
    "    \"\"\"A simple hook to set `need_weights` to True.\"\"\"\n",
    "    query, key, value, key_padding_mask, need_weights, attn_mask = args\n",
    "    need_weights = True\n",
    "    return query, key, value, key_padding_mask, need_weights, attn_mask\n",
    "\n",
    "attn_weights = {}\n",
    "def get_attn_weights(name: str) -> Callable:\n",
    "    # Adapted from https://web.stanford.edu/~nanbhas/blog/forward-hooks-pytorch/\n",
    "    def forward_hook(module, input, output):\n",
    "        attn_output, attn_output_weights = output\n",
    "        attn_weights[name] = attn_output_weights\n",
    "    return forward_hook\n",
    "\n",
    "pre_hook = model.transformer_encoder.transformer_encoder.layers[0].self_attn.register_forward_pre_hook(forward_pre_hook)\n",
    "f_hook = model.transformer_encoder.transformer_encoder.layers[0].self_attn.register_forward_hook(\n",
    "    get_attn_weights(name=\"layer0\"))"
   ]
  },
  {
   "cell_type": "code",
   "execution_count": 171,
   "metadata": {},
   "outputs": [
    {
     "data": {
      "text/plain": [
       "TransformerEncoderLayerForVisualisingWieghts(\n",
       "  (self_attn): MultiheadAttention(\n",
       "    (out_proj): NonDynamicallyQuantizableLinear(in_features=36, out_features=36, bias=True)\n",
       "  )\n",
       "  (linear1): Linear(in_features=36, out_features=2048, bias=True)\n",
       "  (dropout): Dropout(p=0.0, inplace=False)\n",
       "  (linear2): Linear(in_features=2048, out_features=36, bias=True)\n",
       "  (norm1): LayerNorm((36,), eps=1e-05, elementwise_affine=True)\n",
       "  (norm2): LayerNorm((36,), eps=1e-05, elementwise_affine=True)\n",
       "  (dropout1): Dropout(p=0.0, inplace=False)\n",
       "  (dropout2): Dropout(p=0.0, inplace=False)\n",
       ")"
      ]
     },
     "execution_count": 171,
     "metadata": {},
     "output_type": "execute_result"
    }
   ],
   "source": [
    "model.transformer_encoder.transformer_encoder.layers[0]"
   ]
  },
  {
   "cell_type": "code",
   "execution_count": 172,
   "metadata": {},
   "outputs": [
    {
     "data": {
      "text/plain": [
       "torch.float32"
      ]
     },
     "execution_count": 172,
     "metadata": {},
     "output_type": "execute_result"
    }
   ],
   "source": [
    "model_output = model(batch)\n",
    "model_output.dtype"
   ]
  },
  {
   "cell_type": "code",
   "execution_count": 173,
   "metadata": {},
   "outputs": [],
   "source": [
    "pre_hook.remove()\n",
    "f_hook.remove()\n"
   ]
  },
  {
   "cell_type": "code",
   "execution_count": 180,
   "metadata": {},
   "outputs": [
    {
     "data": {
      "text/plain": [
       "torch.Size([128, 264, 264])"
      ]
     },
     "execution_count": 180,
     "metadata": {},
     "output_type": "execute_result"
    }
   ],
   "source": [
    "attn_weights[\"layer0\"].shape"
   ]
  },
  {
   "cell_type": "code",
   "execution_count": 251,
   "metadata": {},
   "outputs": [
    {
     "data": {
      "text/plain": [
       "torch.Size([32, 16, 16])"
      ]
     },
     "execution_count": 251,
     "metadata": {},
     "output_type": "execute_result"
    }
   ],
   "source": [
    "batch[BatchKey.hrvsatellite_x_osgb].shape"
   ]
  },
  {
   "cell_type": "code",
   "execution_count": 271,
   "metadata": {},
   "outputs": [],
   "source": [
    "import cartopy.crs as ccrs"
   ]
  },
  {
   "cell_type": "code",
   "execution_count": 343,
   "metadata": {},
   "outputs": [
    {
     "data": {
      "image/png": "[encoded data removed]",
      "text/plain": [
       "<Figure size 1296x720 with 2 Axes>"
      ]
     },
     "metadata": {},
     "output_type": "display_data"
    }
   ],
   "source": [
    "BATCH_IDX = 10\n",
    "TIMESTEP_IDX = 0\n",
    "PV_SYSTEM_IDX = 0\n",
    "\n",
    "#projection = ccrs.OSGB(approx=False)\n",
    "projection = None\n",
    "nrows = 1\n",
    "ncols = 2\n",
    "shape = (nrows, ncols)\n",
    "\n",
    "ax1 = plt.subplot2grid(shape, loc=(0, 0), projection=projection)\n",
    "ax2 = plt.subplot2grid(shape, loc=(0, 1), projection=projection)\n",
    "\n",
    "ax1.set_title(\"Attention\")\n",
    "ax1.pcolormesh(\n",
    "    batch[BatchKey.hrvsatellite_x_osgb][BATCH_IDX],\n",
    "    batch[BatchKey.hrvsatellite_y_osgb][BATCH_IDX],\n",
    "    attn_weights[\"layer0\"][(4*BATCH_IDX)+TIMESTEP_IDX, 256+PV_SYSTEM_IDX][:256].detach().numpy().reshape(16, 16),\n",
    "    )\n",
    "\n",
    "date = pd.to_datetime(batch[BatchKey.hrvsatellite_time_utc][BATCH_IDX, TIMESTEP_IDX], unit=\"s\")\n",
    "\n",
    "ax2.set_title(f\"Satellite {date}\")\n",
    "ax2.pcolormesh(\n",
    "    batch[BatchKey.hrvsatellite_x_osgb][BATCH_IDX].numpy().repeat(4, axis=0).repeat(4, axis=1),\n",
    "    batch[BatchKey.hrvsatellite_y_osgb][BATCH_IDX].numpy().repeat(4, axis=0).repeat(4, axis=1),\n",
    "    einops.rearrange(\n",
    "        batch[BatchKey.hrvsatellite][BATCH_IDX, TIMESTEP_IDX, 0], \n",
    "        \"y x (patch_size_y patch_size_x) -> (y patch_size_y) (x patch_size_x)\",\n",
    "        patch_size_y=4,\n",
    "        patch_size_x=4\n",
    "        ),\n",
    ")\n",
    "\n",
    "for ax in (ax1, ax2):\n",
    "    ax.scatter(\n",
    "        batch[BatchKey.pv_x_osgb][BATCH_IDX, PV_SYSTEM_IDX],\n",
    "        batch[BatchKey.pv_y_osgb][BATCH_IDX, PV_SYSTEM_IDX],\n",
    "        color=\"white\",\n",
    "    )\n",
    "    \n",
    "    ylim = ax.get_ylim()\n",
    "    xlim = ax.get_xlim()\n",
    "    BORDER_METERS = 50_000\n",
    "    ax.set_ylim(ylim[0]-BORDER_METERS, ylim[1]+BORDER_METERS)\n",
    "    ax.set_xlim(xlim[0]-BORDER_METERS, xlim[1]+BORDER_METERS)\n",
    "\n",
    "    #ax.coastlines()\n",
    "\n",
    "# TODO:\n",
    "# Plot with OSGB coords\n",
    "# Overlay coastline so we can see what's what\n",
    "# Plot location of PV system"
   ]
  },
  {
   "cell_type": "code",
   "execution_count": 263,
   "metadata": {},
   "outputs": [
    {
     "data": {
      "text/plain": [
       "tensor([[338905.8438, 343411.0625, 347914.2812, 352415.5000, 356914.7500,\n",
       "         361412.0000, 365907.2500, 370400.5938, 374891.9688, 379381.4062,\n",
       "         383868.9062, 388354.5000, 392838.1875, 397320.0000, 401799.8750,\n",
       "         406277.8750],\n",
       "        [337054.6875, 341561.9375, 346067.1875, 350570.4375, 355071.6562,\n",
       "         359570.9062, 364068.1875, 368563.4688, 373056.8125, 377548.2188,\n",
       "         382037.6562, 386525.1562, 391010.7812, 395494.4688, 399976.2812,\n",
       "         404456.1875],\n",
       "        [335194.4688, 339703.7812, 344211.0625, 348716.3125, 353219.5938,\n",
       "         357720.8438, 362220.1250, 366717.4062, 371212.7500, 375706.0938,\n",
       "         380197.5000, 384687.0000, 389174.5312, 393660.1250, 398143.8438,\n",
       "         402625.6562],\n",
       "        [333325.0625, 337836.4688, 342345.8125, 346853.1250, 351358.4062,\n",
       "         355861.7188, 360363.0000, 364862.3125, 369359.6250, 373854.9375,\n",
       "         378348.3438, 382839.7812, 387329.2812, 391816.8438, 396302.5000,\n",
       "         400786.2500],\n",
       "        [331446.4062, 335959.8750, 340471.3125, 344980.7188, 349488.0625,\n",
       "         353993.3750, 358496.7500, 362998.0625, 367497.3750, 371994.7500,\n",
       "         376490.1250, 380983.5312, 385475.0000, 389964.5312, 394452.1250,\n",
       "         398937.8125],\n",
       "        [329558.3750, 334073.9375, 338587.5000, 343098.9375, 347608.3750,\n",
       "         352115.8125, 356621.1875, 361124.5625, 365625.9375, 370125.2812,\n",
       "         374622.6875, 379118.1250, 383611.5625, 388103.0625, 392592.6250,\n",
       "         397080.2500],\n",
       "        [327660.8438, 332178.5625, 336694.1875, 341207.8125, 345719.3125,\n",
       "         350228.8125, 354736.2500, 359241.6875, 363745.1250, 368246.5312,\n",
       "         372745.9375, 377243.3750, 381738.8750, 386232.3750, 390723.9375,\n",
       "         395213.5312],\n",
       "        [325753.6875, 330273.5625, 334791.3750, 339307.0625, 343820.7500,\n",
       "         348332.3125, 352841.8750, 357349.3750, 361854.8750, 366358.3750,\n",
       "         370859.8125, 375359.3125, 379856.8125, 384352.3125, 388845.9062,\n",
       "         393337.5000],\n",
       "        [323836.8750, 328358.9375, 332878.8750, 337396.7500, 341912.5000,\n",
       "         346426.2500, 350937.8750, 355447.5000, 359955.0938, 364460.6250,\n",
       "         368964.1875, 373465.7500, 377965.2812, 382462.8125, 386958.4062,\n",
       "         391452.0000],\n",
       "        [321910.2500, 326434.4688, 330956.5938, 335476.6250, 339994.5625,\n",
       "         344510.4375, 349024.2188, 353535.9375, 358045.6250, 362553.2812,\n",
       "         367058.9375, 371562.5312, 376064.1250, 380563.7500, 385061.3750,\n",
       "         389557.0000],\n",
       "        [319973.6250, 324500.1250, 329024.4062, 333546.6250, 338066.7500,\n",
       "         342584.7500, 347100.7188, 351614.5938, 356126.4375, 360636.1875,\n",
       "         365143.9375, 369649.6250, 374153.3125, 378655.0000, 383154.6875,\n",
       "         387652.3750],\n",
       "        [318027.0000, 322555.6875, 327082.2500, 331606.6562, 336128.9688,\n",
       "         340649.1875, 345167.3125, 349683.3438, 354197.3125, 358709.2188,\n",
       "         363219.0625, 367726.9062, 372232.6875, 376736.4375, 381238.2188,\n",
       "         385737.9688],\n",
       "        [316070.1875, 320601.1250, 325129.9375, 329656.5625, 334181.0625,\n",
       "         338703.5000, 343223.8125, 347742.0625, 352258.1875, 356772.2500,\n",
       "         361284.2500, 365794.2188, 370302.1250, 374808.0000, 379311.8750,\n",
       "         383813.7188],\n",
       "        [314103.0625, 318636.2812, 323167.3438, 327696.2500, 332223.0000,\n",
       "         336747.6875, 341270.1875, 345790.6250, 350308.9375, 354825.1875,\n",
       "         359339.3438, 363851.4688, 368361.5000, 372869.5312, 377375.5000,\n",
       "         381879.4688],\n",
       "        [312125.5312, 316661.0312, 321194.3750, 325725.5625, 330254.6250,\n",
       "         334781.5000, 339306.2500, 343828.8750, 348349.4375, 352867.8750,\n",
       "         357384.2500, 361898.5312, 366410.7500, 370920.9375, 375429.0625,\n",
       "         379935.1250],\n",
       "        [310137.4375, 314675.2500, 319210.9062, 323744.3750, 328275.7188,\n",
       "         332804.8750, 337331.9375, 341856.8125, 346379.5625, 350900.2500,\n",
       "         355418.8125, 359935.3125, 364449.6875, 368962.0312, 373472.3125,\n",
       "         377980.5312]])"
      ]
     },
     "execution_count": 263,
     "metadata": {},
     "output_type": "execute_result"
    }
   ],
   "source": [
    "batch[BatchKey.hrvsatellite_x_osgb][BATCH_IDX]"
   ]
  },
  {
   "cell_type": "code",
   "execution_count": 16,
   "metadata": {},
   "outputs": [
    {
     "name": "stderr",
     "output_type": "stream",
     "text": [
      "Failed to detect the name of this notebook, you can set it manually with the WANDB_NOTEBOOK_NAME environment variable to enable code saving.\n",
      "\u001b[34m\u001b[1mwandb\u001b[0m: Currently logged in as: \u001b[33mopenclimatefix\u001b[0m (use `wandb login --relogin` to force relogin)\n",
      "\u001b[34m\u001b[1mwandb\u001b[0m: wandb version 0.12.13 is available!  To upgrade, please run:\n",
      "\u001b[34m\u001b[1mwandb\u001b[0m:  $ pip install wandb --upgrade\n"
     ]
    },
    {
     "data": {
      "text/html": [
       "\n",
       "                Tracking run with wandb version 0.12.1<br/>\n",
       "                Syncing run <strong style=\"color:#cdcd00\">fresh-night-20</strong> to <a href=\"https://wandb.ai\" target=\"_blank\">Weights & Biases</a> <a href=\"https://docs.wandb.com/integrations/jupyter.html\" target=\"_blank\">(Documentation)</a>.<br/>\n",
       "                Project page: <a href=\"https://wandb.ai/openclimatefix/power_perceiver\" target=\"_blank\">https://wandb.ai/openclimatefix/power_perceiver</a><br/>\n",
       "                Run page: <a href=\"https://wandb.ai/openclimatefix/power_perceiver/runs/1imuuxs1\" target=\"_blank\">https://wandb.ai/openclimatefix/power_perceiver/runs/1imuuxs1</a><br/>\n",
       "                Run data is saved locally in <code>/home/jack/dev/ocf/power_perceiver/notebooks/2022-04-04_train_ML_model/wandb/run-20220407_130606-1imuuxs1</code><br/><br/>\n",
       "            "
      ],
      "text/plain": [
       "<IPython.core.display.HTML object>"
      ]
     },
     "metadata": {},
     "output_type": "display_data"
    },
    {
     "name": "stderr",
     "output_type": "stream",
     "text": [
      "\u001b[34m\u001b[1mwandb\u001b[0m: logging graph, to disable use `wandb.watch(log_graph=False)`\n"
     ]
    }
   ],
   "source": [
    "wandb_logger = WandbLogger(\n",
    "    project=\"power_perceiver\", \n",
    "    entity=\"openclimatefix\",\n",
    "    log_model=\"all\",\n",
    "    )\n",
    "\n",
    "# log gradients, parameter histogram and model topology\n",
    "wandb_logger.watch(model, log=\"all\")"
   ]
  },
  {
   "cell_type": "code",
   "execution_count": 17,
   "metadata": {},
   "outputs": [
    {
     "name": "stderr",
     "output_type": "stream",
     "text": [
      "GPU available: True, used: True\n",
      "TPU available: False, using: 0 TPU cores\n",
      "IPU available: False, using: 0 IPUs\n",
      "HPU available: False, using: 0 HPUs\n"
     ]
    }
   ],
   "source": [
    "trainer = pl.Trainer(\n",
    "    gpus=[5],\n",
    "    max_epochs=-1,\n",
    "    logger=wandb_logger,\n",
    "    callbacks=[\n",
    "        LogTimeseriesPlots(),\n",
    "        LogTSNEPlot(),\n",
    "    ]\n",
    "    )"
   ]
  },
  {
   "cell_type": "code",
   "execution_count": 18,
   "metadata": {},
   "outputs": [
    {
     "name": "stderr",
     "output_type": "stream",
     "text": [
      "/home/jack/miniconda3/envs/power_perceiver/lib/python3.10/site-packages/pytorch_lightning/trainer/configuration_validator.py:342: LightningDeprecationWarning: Base `Callback.on_train_batch_end` hook signature has changed in v1.5. The `dataloader_idx` argument will be removed in v1.7.\n",
      "  rank_zero_deprecation(\n",
      "LOCAL_RANK: 0 - CUDA_VISIBLE_DEVICES: [0,1,2,3,4,5]\n",
      "\n",
      "  | Name                   | Type                         | Params\n",
      "------------------------------------------------------------------------\n",
      "0 | hrvsatellite_processor | HRVSatelliteProcessor        | 0     \n",
      "1 | query_generator        | QueryGenerator               | 32.0 K\n",
      "2 | transformer_encoder    | MultiLayerTransformerEncoder | 620 K \n",
      "3 | output_module          | Sequential                   | 1.4 K \n",
      "------------------------------------------------------------------------\n",
      "653 K     Trainable params\n",
      "0         Non-trainable params\n",
      "653 K     Total params\n",
      "2.614     Total estimated model params size (MB)\n"
     ]
    },
    {
     "name": "stdout",
     "output_type": "stream",
     "text": [
      "Sanity Checking DataLoader 0:   0%|                                                             | 0/2 [00:00<?, ?it/s]"
     ]
    },
    {
     "name": "stderr",
     "output_type": "stream",
     "text": [
      "/home/jack/miniconda3/envs/power_perceiver/lib/python3.10/site-packages/sklearn/manifold/_t_sne.py:982: FutureWarning: The PCA initialization in TSNE will change to have the standard deviation of PC1 equal to 1e-4 in 1.2. This will ensure better convergence.\n",
      "  warnings.warn(\n"
     ]
    },
    {
     "name": "stdout",
     "output_type": "stream",
     "text": [
      "Epoch 0:   0%|                                                                               | 0/8800 [00:00<?, ?it/s]"
     ]
    },
    {
     "name": "stderr",
     "output_type": "stream",
     "text": [
      "/home/jack/miniconda3/envs/power_perceiver/lib/python3.10/site-packages/sklearn/manifold/_t_sne.py:982: FutureWarning: The PCA initialization in TSNE will change to have the standard deviation of PC1 equal to 1e-4 in 1.2. This will ensure better convergence.\n",
      "  warnings.warn(\n"
     ]
    },
    {
     "name": "stdout",
     "output_type": "stream",
     "text": [
      "Epoch 0:  95%|█████████████████████████████████████████  | 8400/8800 [07:21<00:21, 19.02it/s, loss=0.0141, v_num=uxs1]"
     ]
    },
    {
     "name": "stderr",
     "output_type": "stream",
     "text": [
      "/home/jack/miniconda3/envs/power_perceiver/lib/python3.10/site-packages/sklearn/manifold/_t_sne.py:982: FutureWarning: The PCA initialization in TSNE will change to have the standard deviation of PC1 equal to 1e-4 in 1.2. This will ensure better convergence.\n",
      "  warnings.warn(\n"
     ]
    },
    {
     "name": "stdout",
     "output_type": "stream",
     "text": [
      "Epoch 1: 100%|███████████████████████████████████████████| 8800/8800 [08:18<00:00, 17.64it/s, loss=0.0141, v_num=uxs1]"
     ]
    },
    {
     "name": "stderr",
     "output_type": "stream",
     "text": [
      "/home/jack/miniconda3/envs/power_perceiver/lib/python3.10/site-packages/sklearn/manifold/_t_sne.py:982: FutureWarning: The PCA initialization in TSNE will change to have the standard deviation of PC1 equal to 1e-4 in 1.2. This will ensure better convergence.\n",
      "  warnings.warn(\n"
     ]
    },
    {
     "name": "stdout",
     "output_type": "stream",
     "text": [
      "Epoch 1:  95%|█████████████████████████████████████████  | 8400/8800 [15:41<00:44,  8.93it/s, loss=0.0123, v_num=uxs1]"
     ]
    },
    {
     "name": "stderr",
     "output_type": "stream",
     "text": [
      "/home/jack/miniconda3/envs/power_perceiver/lib/python3.10/site-packages/sklearn/manifold/_t_sne.py:982: FutureWarning: The PCA initialization in TSNE will change to have the standard deviation of PC1 equal to 1e-4 in 1.2. This will ensure better convergence.\n",
      "  warnings.warn(\n"
     ]
    },
    {
     "name": "stdout",
     "output_type": "stream",
     "text": [
      "Epoch 1:  95%|█████████████████████████████████████████  | 8401/8800 [15:43<00:44,  8.91it/s, loss=0.0123, v_num=uxs1]"
     ]
    },
    {
     "name": "stderr",
     "output_type": "stream",
     "text": [
      "/tmp/ipykernel_101339/4283650877.py:9: RuntimeWarning: More than 20 figures have been opened. Figures created through the pyplot interface (`matplotlib.pyplot.figure`) are retained until explicitly closed and may consume too much memory. (To control this warning, see the rcParam `figure.max_open_warning`).\n",
      "  fig, (ax_actual, ax_predicted) = plt.subplots(nrows=2, sharex=True)\n"
     ]
    },
    {
     "name": "stdout",
     "output_type": "stream",
     "text": [
      "Epoch 2: 100%|███████████████████████████████████████████| 8800/8800 [16:38<00:00,  8.82it/s, loss=0.0123, v_num=uxs1]"
     ]
    },
    {
     "name": "stderr",
     "output_type": "stream",
     "text": [
      "/home/jack/miniconda3/envs/power_perceiver/lib/python3.10/site-packages/sklearn/manifold/_t_sne.py:982: FutureWarning: The PCA initialization in TSNE will change to have the standard deviation of PC1 equal to 1e-4 in 1.2. This will ensure better convergence.\n",
      "  warnings.warn(\n"
     ]
    },
    {
     "name": "stdout",
     "output_type": "stream",
     "text": [
      "Epoch 2:  95%|█████████████████████████████████████████  | 8400/8800 [24:00<01:08,  5.83it/s, loss=0.0117, v_num=uxs1]"
     ]
    },
    {
     "name": "stderr",
     "output_type": "stream",
     "text": [
      "/home/jack/miniconda3/envs/power_perceiver/lib/python3.10/site-packages/sklearn/manifold/_t_sne.py:982: FutureWarning: The PCA initialization in TSNE will change to have the standard deviation of PC1 equal to 1e-4 in 1.2. This will ensure better convergence.\n",
      "  warnings.warn(\n"
     ]
    },
    {
     "name": "stdout",
     "output_type": "stream",
     "text": [
      "Epoch 3: 100%|███████████████████████████████████████████| 8800/8800 [24:57<00:00,  5.87it/s, loss=0.0117, v_num=uxs1]"
     ]
    },
    {
     "name": "stderr",
     "output_type": "stream",
     "text": [
      "/home/jack/miniconda3/envs/power_perceiver/lib/python3.10/site-packages/sklearn/manifold/_t_sne.py:982: FutureWarning: The PCA initialization in TSNE will change to have the standard deviation of PC1 equal to 1e-4 in 1.2. This will ensure better convergence.\n",
      "  warnings.warn(\n"
     ]
    },
    {
     "name": "stdout",
     "output_type": "stream",
     "text": [
      "Epoch 3:  95%|█████████████████████████████████████████  | 8400/8800 [32:20<01:32,  4.33it/s, loss=0.0114, v_num=uxs1]"
     ]
    },
    {
     "name": "stderr",
     "output_type": "stream",
     "text": [
      "/home/jack/miniconda3/envs/power_perceiver/lib/python3.10/site-packages/sklearn/manifold/_t_sne.py:982: FutureWarning: The PCA initialization in TSNE will change to have the standard deviation of PC1 equal to 1e-4 in 1.2. This will ensure better convergence.\n",
      "  warnings.warn(\n"
     ]
    },
    {
     "name": "stdout",
     "output_type": "stream",
     "text": [
      "Epoch 4: 100%|███████████████████████████████████████████| 8800/8800 [33:17<00:00,  4.41it/s, loss=0.0114, v_num=uxs1]"
     ]
    },
    {
     "name": "stderr",
     "output_type": "stream",
     "text": [
      "/home/jack/miniconda3/envs/power_perceiver/lib/python3.10/site-packages/sklearn/manifold/_t_sne.py:982: FutureWarning: The PCA initialization in TSNE will change to have the standard deviation of PC1 equal to 1e-4 in 1.2. This will ensure better convergence.\n",
      "  warnings.warn(\n"
     ]
    },
    {
     "name": "stdout",
     "output_type": "stream",
     "text": [
      "Epoch 4:  95%|█████████████████████████████████████████  | 8400/8800 [40:39<01:56,  3.44it/s, loss=0.0112, v_num=uxs1]"
     ]
    },
    {
     "name": "stderr",
     "output_type": "stream",
     "text": [
      "/home/jack/miniconda3/envs/power_perceiver/lib/python3.10/site-packages/sklearn/manifold/_t_sne.py:982: FutureWarning: The PCA initialization in TSNE will change to have the standard deviation of PC1 equal to 1e-4 in 1.2. This will ensure better convergence.\n",
      "  warnings.warn(\n"
     ]
    },
    {
     "name": "stdout",
     "output_type": "stream",
     "text": [
      "Epoch 5: 100%|███████████████████████████████████████████| 8800/8800 [41:37<00:00,  3.52it/s, loss=0.0112, v_num=uxs1]"
     ]
    },
    {
     "name": "stderr",
     "output_type": "stream",
     "text": [
      "/home/jack/miniconda3/envs/power_perceiver/lib/python3.10/site-packages/sklearn/manifold/_t_sne.py:982: FutureWarning: The PCA initialization in TSNE will change to have the standard deviation of PC1 equal to 1e-4 in 1.2. This will ensure better convergence.\n",
      "  warnings.warn(\n"
     ]
    },
    {
     "name": "stdout",
     "output_type": "stream",
     "text": [
      "Epoch 5:  45%|███████████████████▏                       | 3917/8800 [45:04<56:11,  1.45it/s, loss=0.0114, v_num=uxs1]"
     ]
    }
   ],
   "source": [
    "trainer.fit(\n",
    "    model=model, \n",
    "    train_dataloaders=train_dataloader,\n",
    "    val_dataloaders=val_dataloader,\n",
    "    )"
   ]
  }
 ],
 "metadata": {
  "interpreter": {
   "hash": "6e018056da7ac22974c0de454ad66e6f150c494c7b54611c2027650045c28434"
  },
  "kernelspec": {
   "display_name": "power_perceiver",
   "language": "python",
   "name": "power_perceiver"
  },
  "language_info": {
   "codemirror_mode": {
    "name": "ipython",
    "version": 3
   },
   "file_extension": ".py",
   "mimetype": "text/x-python",
   "name": "python",
   "nbconvert_exporter": "python",
   "pygments_lexer": "ipython3",
   "version": "3.10.4"
  },
  "orig_nbformat": 4
 },
 "nbformat": 4,
 "nbformat_minor": 2
}
