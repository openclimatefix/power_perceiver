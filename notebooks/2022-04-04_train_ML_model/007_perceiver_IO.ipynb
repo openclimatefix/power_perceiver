{
 "cells": [
  {
   "cell_type": "code",
   "execution_count": 1,
   "metadata": {},
   "outputs": [
    {
     "name": "stderr",
     "output_type": "stream",
     "text": [
      "/home/jack/miniconda3/envs/power_perceiver/lib/python3.10/site-packages/tqdm/auto.py:22: TqdmWarning: IProgress not found. Please update jupyter and ipywidgets. See https://ipywidgets.readthedocs.io/en/stable/user_install.html\n",
      "  from .autonotebook import tqdm as notebook_tqdm\n"
     ]
    }
   ],
   "source": [
    "# General imports\n",
    "from pathlib import Path\n",
    "from dataclasses import dataclass\n",
    "from typing import Optional, Iterable, Any\n",
    "import matplotlib.pyplot as plt\n",
    "import numpy as np\n",
    "import pandas as pd\n",
    "\n",
    "plt.rcParams[\"figure.figsize\"] = (18, 10)\n",
    "plt.rcParams[\"figure.facecolor\"] = \"white\"\n",
    "\n",
    "# ML imports\n",
    "import torch\n",
    "from torch.utils import data\n",
    "from torch import nn\n",
    "import torch.nn.functional as F\n",
    "import einops\n",
    "import pytorch_lightning as pl\n",
    "from pytorch_lightning.loggers import WandbLogger\n",
    "import wandb\n",
    "import sklearn.manifold\n",
    "\n",
    "# power_perceiver imports\n",
    "from power_perceiver.dataset import NowcastingDataset\n",
    "from power_perceiver.consts import BatchKey\n",
    "from power_perceiver.data_loader import HRVSatellite, PV, Sun\n",
    "from power_perceiver.xr_batch_processor import SelectPVSystemsNearCenterOfImage, ReduceNumPVSystems, ReduceNumTimesteps\n",
    "from power_perceiver.np_batch_processor import EncodeSpaceTime, Topography\n",
    "from power_perceiver.transforms.satellite import PatchSatellite\n",
    "from power_perceiver.transforms.pv import PVPowerRollingWindow"
   ]
  },
  {
   "cell_type": "code",
   "execution_count": 2,
   "metadata": {},
   "outputs": [],
   "source": [
    "#DATA_PATH = Path(\"~/dev/ocf/power_perceiver/data_for_testing/\").expanduser()\n",
    "\n",
    "DATA_PATH = Path(\n",
    "    \"/mnt/storage_ssd_4tb/data/ocf/solar_pv_nowcasting/nowcasting_dataset_pipeline/prepared_ML_training_data/v15/\")\n",
    "assert DATA_PATH.exists()"
   ]
  },
  {
   "cell_type": "code",
   "execution_count": 3,
   "metadata": {},
   "outputs": [
    {
     "name": "stderr",
     "output_type": "stream",
     "text": [
      "/home/jack/miniconda3/envs/power_perceiver/lib/python3.10/site-packages/pyresample/image.py:59: FutureWarning: Usage of ImageContainer is deprecated, please use NumpyResamplerBilinear class instead\n",
      "  warnings.warn(\n",
      "/home/jack/miniconda3/envs/power_perceiver/lib/python3.10/site-packages/pyproj/crs/crs.py:1256: UserWarning: You will likely lose important projection information when converting to a PROJ string from another format. See: https://proj.org/faq.html#what-is-the-best-format-for-describing-coordinate-reference-systems\n",
      "  return self._crs.to_proj4(version=version)\n",
      "/home/jack/miniconda3/envs/power_perceiver/lib/python3.10/site-packages/pyproj/crs/crs.py:1256: UserWarning: You will likely lose important projection information when converting to a PROJ string from another format. See: https://proj.org/faq.html#what-is-the-best-format-for-describing-coordinate-reference-systems\n",
      "  return self._crs.to_proj4(version=version)\n",
      "/home/jack/miniconda3/envs/power_perceiver/lib/python3.10/site-packages/pyresample/image.py:59: FutureWarning: Usage of ImageContainer is deprecated, please use NumpyResamplerBilinear class instead\n",
      "  warnings.warn(\n",
      "/home/jack/miniconda3/envs/power_perceiver/lib/python3.10/site-packages/pyresample/image.py:59: FutureWarning: Usage of ImageContainer is deprecated, please use NumpyResamplerBilinear class instead\n",
      "  warnings.warn(\n",
      "/home/jack/miniconda3/envs/power_perceiver/lib/python3.10/site-packages/pyproj/crs/crs.py:1256: UserWarning: You will likely lose important projection information when converting to a PROJ string from another format. See: https://proj.org/faq.html#what-is-the-best-format-for-describing-coordinate-reference-systems\n",
      "  return self._crs.to_proj4(version=version)\n",
      "/home/jack/miniconda3/envs/power_perceiver/lib/python3.10/site-packages/pyproj/crs/crs.py:1256: UserWarning: You will likely lose important projection information when converting to a PROJ string from another format. See: https://proj.org/faq.html#what-is-the-best-format-for-describing-coordinate-reference-systems\n",
      "  return self._crs.to_proj4(version=version)\n",
      "/home/jack/miniconda3/envs/power_perceiver/lib/python3.10/site-packages/pyresample/image.py:59: FutureWarning: Usage of ImageContainer is deprecated, please use NumpyResamplerBilinear class instead\n",
      "  warnings.warn(\n"
     ]
    }
   ],
   "source": [
    "def get_dataloader(data_path: Path, tag: str) -> data.DataLoader:\n",
    "    assert tag in [\"train\", \"validation\"]\n",
    "    assert data_path.exists()\n",
    "    \n",
    "    xr_batch_processors = [\n",
    "        SelectPVSystemsNearCenterOfImage(),\n",
    "        ReduceNumPVSystems(requested_num_pv_systems=8),\n",
    "        ]\n",
    "    \n",
    "    if tag == \"train\":\n",
    "        xr_batch_processors.append(ReduceNumTimesteps(requested_timesteps=4))\n",
    "    \n",
    "    dataset = NowcastingDataset(\n",
    "        data_path=data_path,\n",
    "        data_loaders=[\n",
    "            HRVSatellite(\n",
    "                transforms=[PatchSatellite()]\n",
    "                ), \n",
    "            PV(\n",
    "                transforms=[PVPowerRollingWindow()]\n",
    "                ),\n",
    "            Sun(),\n",
    "        ],\n",
    "        xr_batch_processors=xr_batch_processors,\n",
    "        np_batch_processors=[\n",
    "            EncodeSpaceTime(),\n",
    "            Topography(\"/home/jack/europe_dem_2km_osgb.tif\"),\n",
    "            ]\n",
    "    )\n",
    "\n",
    "    dataloader = data.DataLoader(\n",
    "        dataset,\n",
    "        batch_size=None,\n",
    "        num_workers=16,\n",
    "        pin_memory=True,\n",
    "    )\n",
    "    \n",
    "    return dataloader\n",
    "\n",
    "#train_dataloader = get_dataloader(DATA_PATH)\n",
    "train_dataloader = get_dataloader(DATA_PATH / \"train\", tag=\"train\")\n",
    "val_dataloader = get_dataloader(DATA_PATH / \"test\", tag=\"validation\")"
   ]
  },
  {
   "cell_type": "code",
   "execution_count": 4,
   "metadata": {},
   "outputs": [],
   "source": [
    "for batch in train_dataloader:\n",
    "    break"
   ]
  },
  {
   "cell_type": "code",
   "execution_count": 5,
   "metadata": {},
   "outputs": [
    {
     "data": {
      "text/plain": [
       "torch.Size([31, 4, 8])"
      ]
     },
     "execution_count": 5,
     "metadata": {},
     "output_type": "execute_result"
    }
   ],
   "source": [
    "batch[BatchKey.pv].shape"
   ]
  },
  {
   "cell_type": "code",
   "execution_count": 6,
   "metadata": {},
   "outputs": [
    {
     "data": {
      "text/plain": [
       "torch.Size([31, 4])"
      ]
     },
     "execution_count": 6,
     "metadata": {},
     "output_type": "execute_result"
    }
   ],
   "source": [
    "batch[BatchKey.pv_time_utc].shape"
   ]
  },
  {
   "cell_type": "code",
   "execution_count": 7,
   "metadata": {},
   "outputs": [
    {
     "data": {
      "text/plain": [
       "torch.Size([31, 4, 8])"
      ]
     },
     "execution_count": 7,
     "metadata": {},
     "output_type": "execute_result"
    }
   ],
   "source": [
    "batch[BatchKey.pv].shape"
   ]
  },
  {
   "cell_type": "code",
   "execution_count": 8,
   "metadata": {},
   "outputs": [],
   "source": [
    "from power_perceiver.pytorch_modules.satellite_processor import HRVSatelliteProcessor\n",
    "from power_perceiver.pytorch_modules.query_generator import QueryGenerator\n",
    "from power_perceiver.pytorch_modules.self_attention import PerceiverIO\n",
    "\n",
    "\n",
    "@dataclass(eq=False)  # See https://discuss.pytorch.org/t/typeerror-unhashable-type-for-my-torch-nn-module/109424/6\n",
    "class Model(pl.LightningModule):\n",
    "    encoder_query_dim: int = 64\n",
    "    num_encoder_query_elements: int = 64\n",
    "    decoder_query_dim: int = 36  # decoder_query will be automatically padded with zeros to get to this size.\n",
    "    num_fourier_features: int = 16 # TOTAL for both x and y\n",
    "    pv_system_id_embedding_dim: int = 16\n",
    "    byte_array_dim: int = 35\n",
    "    num_encoder_heads: int = 8\n",
    "    num_decoder_heads: int = 6\n",
    "    dropout: float = 0.0\n",
    "    share_weights_across_latent_transformer_layers: bool = False\n",
    "    num_latent_transformer_encoders: int = 4\n",
    "    \n",
    "    # Other params:\n",
    "    num_elements_query_padding: int = 0  # Probably keep this at zero while using MultiLayerTransformerEncoder or Perceiver IO\n",
    "\n",
    "    def __post_init__(self):\n",
    "        super().__init__()\n",
    "        self.hrvsatellite_processor = HRVSatelliteProcessor()\n",
    "        \n",
    "        self.encoder_query = nn.Parameter(\n",
    "            torch.randn(self.num_encoder_query_elements, self.encoder_query_dim) / 5)\n",
    "        \n",
    "        self.decoder_query_generator = QueryGenerator(\n",
    "            num_fourier_features=self.num_fourier_features,  # TOTAL (for both x and y)\n",
    "            pv_system_id_embedding_dim=self.pv_system_id_embedding_dim,\n",
    "            num_elements_query_padding=self.num_elements_query_padding)\n",
    "        \n",
    "        self.perceiver_io = PerceiverIO(\n",
    "            encoder_query_dim=self.encoder_query_dim,\n",
    "            decoder_query_dim=self.decoder_query_dim,\n",
    "            byte_array_dim=self.byte_array_dim,\n",
    "            num_encoder_heads=self.num_encoder_heads,\n",
    "            num_decoder_heads=self.num_decoder_heads,\n",
    "            dropout=self.dropout,\n",
    "            share_weights_across_latent_transformer_layers=self.share_weights_across_latent_transformer_layers,\n",
    "            num_latent_transformer_encoders=self.num_latent_transformer_encoders,\n",
    "            )\n",
    "\n",
    "        self.output_module = nn.Sequential(\n",
    "            nn.Linear(in_features=self.decoder_query_dim, out_features=self.decoder_query_dim),\n",
    "            nn.ReLU(),\n",
    "            nn.Linear(in_features=self.decoder_query_dim, out_features=1),\n",
    "        )\n",
    "\n",
    "        # Do this at the end of __post_init__ to capture model topology to wandb:\n",
    "        self.save_hyperparameters()\n",
    "        \n",
    "    def forward(self, x: dict[BatchKey, torch.Tensor]) -> torch.Tensor:       \n",
    "        original_batch_size = x[BatchKey.pv].shape[0]\n",
    "        byte_array = self.hrvsatellite_processor(x)\n",
    "        \n",
    "        # Get decoder query\n",
    "        decoder_query = self.decoder_query_generator(x)\n",
    "        # Pad with zeros if necessary to get up to self.decoder_query_dim:\n",
    "        decoder_query = self._maybe_pad_with_zeros(decoder_query)            \n",
    "        \n",
    "        # Repeat encoder query for each example in the batch:\n",
    "        encoder_query = einops.repeat(\n",
    "            self.encoder_query, \n",
    "            \"element feature -> example element feature\",\n",
    "            example=byte_array.shape[0],\n",
    "            )\n",
    "        \n",
    "        # Run through the Perceiver IO:\n",
    "        out = self.perceiver_io(\n",
    "            encoder_query=encoder_query,\n",
    "            byte_array=byte_array,\n",
    "            decoder_query=decoder_query,\n",
    "            )\n",
    "        \n",
    "        out = self.output_module(out)\n",
    "        \n",
    "        # Reshape back to (batch_size, n_timesteps, ...)\n",
    "        return einops.rearrange(\n",
    "            out, \n",
    "            \"(batch_size n_timesteps) ... -> batch_size n_timesteps ...\", \n",
    "            batch_size=original_batch_size)\n",
    "        \n",
    "    def _maybe_pad_with_zeros(self, tensor: torch.Tensor) -> torch.Tensor:\n",
    "        num_zeros_to_pad = self.decoder_query_dim - tensor.shape[-1]        \n",
    "        assert num_zeros_to_pad >= 0, f\"{self.query_dim=}, {tensor.shape=}\"\n",
    "        if num_zeros_to_pad > 0:\n",
    "            zero_padding_shape = tensor.shape[:2] + (num_zeros_to_pad,)\n",
    "            zero_padding = torch.zeros(*zero_padding_shape, dtype=tensor.dtype, device=tensor.device)\n",
    "            tensor = torch.concat((tensor, zero_padding), dim=2)\n",
    "        return tensor\n",
    "    \n",
    "    def _training_or_validation_step(\n",
    "            self, \n",
    "            batch: dict[BatchKey, torch.Tensor], \n",
    "            batch_idx: int, \n",
    "            tag: str\n",
    "        ) -> dict[str, object]:\n",
    "        \"\"\"\n",
    "        Args:\n",
    "            batch: The training or validation batch.  A dictionary.\n",
    "            tag: Either \"train\" or \"validation\"\n",
    "            batch_idx: The index of the batch.\n",
    "        \"\"\"\n",
    "        actual_pv_power = batch[BatchKey.pv]\n",
    "        #actual_pv_power = torch.nan_to_num(actual_pv_power, nan=0.0)\n",
    "        actual_pv_power = torch.where(\n",
    "            batch[BatchKey.pv_mask].unsqueeze(1), \n",
    "            actual_pv_power, \n",
    "            torch.tensor(0.0, dtype=actual_pv_power.dtype, device=actual_pv_power.device))\n",
    "\n",
    "        predicted_pv_power = self(batch).squeeze()\n",
    "        #mse_loss = F.mse_loss(predicted_pv_power, actual_pv_power, reduction=\"none\").mean(dim=1).float()\n",
    "        #mse_loss = masked_mean(mse_loss, mask=batch[BatchKey.pv_mask])        \n",
    "        mse_loss = F.mse_loss(predicted_pv_power, actual_pv_power)\n",
    "        \n",
    "        self.log(f\"{tag}/mse\", mse_loss)\n",
    "        \n",
    "        return {\n",
    "            'loss': mse_loss,\n",
    "            'predicted_pv_power': predicted_pv_power,\n",
    "            }\n",
    "    \n",
    "    def training_step(self, batch: dict[BatchKey, torch.Tensor], batch_idx: int) -> dict[str, object]:\n",
    "        return self._training_or_validation_step(batch=batch, batch_idx=batch_idx, tag=\"train\")\n",
    "    \n",
    "    def validation_step(self, batch: dict[BatchKey, torch.Tensor], batch_idx: int) -> dict[str, object]:\n",
    "        return self._training_or_validation_step(batch=batch, batch_idx=batch_idx, tag=\"validation\")\n",
    "    \n",
    "    def configure_optimizers(self):\n",
    "        optimizer = torch.optim.Adam(self.parameters(), lr=1e-4)\n",
    "        return optimizer"
   ]
  },
  {
   "cell_type": "code",
   "execution_count": 9,
   "metadata": {},
   "outputs": [],
   "source": [
    "model = Model()\n",
    "#model = Model.load_from_checkpoint(\n",
    "#    \"~/dev/ocf/power_perceiver/notebooks/2022-04-04_train_ML_model/model.ckpt\")\n"
   ]
  },
  {
   "cell_type": "code",
   "execution_count": 10,
   "metadata": {},
   "outputs": [],
   "source": [
    "model_output = model(batch)"
   ]
  },
  {
   "cell_type": "code",
   "execution_count": 11,
   "metadata": {},
   "outputs": [
    {
     "name": "stderr",
     "output_type": "stream",
     "text": [
      "Failed to detect the name of this notebook, you can set it manually with the WANDB_NOTEBOOK_NAME environment variable to enable code saving.\n",
      "\u001b[34m\u001b[1mwandb\u001b[0m: Currently logged in as: \u001b[33mopenclimatefix\u001b[0m (use `wandb login --relogin` to force relogin)\n",
      "\u001b[34m\u001b[1mwandb\u001b[0m: wandb version 0.12.14 is available!  To upgrade, please run:\n",
      "\u001b[34m\u001b[1mwandb\u001b[0m:  $ pip install wandb --upgrade\n"
     ]
    },
    {
     "data": {
      "text/html": [
       "\n",
       "                Tracking run with wandb version 0.12.1<br/>\n",
       "                Syncing run <strong style=\"color:#cdcd00\">jumping-armadillo-29</strong> to <a href=\"https://wandb.ai\" target=\"_blank\">Weights & Biases</a> <a href=\"https://docs.wandb.com/integrations/jupyter.html\" target=\"_blank\">(Documentation)</a>.<br/>\n",
       "                Project page: <a href=\"https://wandb.ai/openclimatefix/power_perceiver\" target=\"_blank\">https://wandb.ai/openclimatefix/power_perceiver</a><br/>\n",
       "                Run page: <a href=\"https://wandb.ai/openclimatefix/power_perceiver/runs/1p5ujcp6\" target=\"_blank\">https://wandb.ai/openclimatefix/power_perceiver/runs/1p5ujcp6</a><br/>\n",
       "                Run data is saved locally in <code>/home/jack/dev/ocf/power_perceiver/notebooks/2022-04-04_train_ML_model/wandb/run-20220411_143715-1p5ujcp6</code><br/><br/>\n",
       "            "
      ],
      "text/plain": [
       "<IPython.core.display.HTML object>"
      ]
     },
     "metadata": {},
     "output_type": "display_data"
    },
    {
     "name": "stderr",
     "output_type": "stream",
     "text": [
      "\u001b[34m\u001b[1mwandb\u001b[0m: logging graph, to disable use `wandb.watch(log_graph=False)`\n"
     ]
    }
   ],
   "source": [
    "wandb_logger = WandbLogger(\n",
    "    project=\"power_perceiver\", \n",
    "    entity=\"openclimatefix\",\n",
    "    log_model=\"all\",\n",
    "    )\n",
    "\n",
    "# log gradients, parameter histogram and model topology\n",
    "wandb_logger.watch(model, log=\"all\")"
   ]
  },
  {
   "cell_type": "code",
   "execution_count": 12,
   "metadata": {},
   "outputs": [
    {
     "name": "stderr",
     "output_type": "stream",
     "text": [
      "GPU available: True, used: True\n",
      "TPU available: False, using: 0 TPU cores\n",
      "IPU available: False, using: 0 IPUs\n",
      "HPU available: False, using: 0 HPUs\n"
     ]
    }
   ],
   "source": [
    "from power_perceiver.analysis.plot_timeseries import LogTimeseriesPlots\n",
    "from power_perceiver.analysis.plot_tsne import LogTSNEPlot\n",
    "\n",
    "trainer = pl.Trainer(\n",
    "    gpus=[3],\n",
    "    max_epochs=-1,\n",
    "    logger=wandb_logger,\n",
    "    callbacks=[\n",
    "        LogTimeseriesPlots(),\n",
    "        LogTSNEPlot(),\n",
    "        ]\n",
    "    )"
   ]
  },
  {
   "cell_type": "code",
   "execution_count": 13,
   "metadata": {},
   "outputs": [
    {
     "name": "stderr",
     "output_type": "stream",
     "text": [
      "/home/jack/miniconda3/envs/power_perceiver/lib/python3.10/site-packages/pytorch_lightning/trainer/configuration_validator.py:342: LightningDeprecationWarning: Base `Callback.on_train_batch_end` hook signature has changed in v1.5. The `dataloader_idx` argument will be removed in v1.7.\n",
      "  rank_zero_deprecation(\n",
      "LOCAL_RANK: 0 - CUDA_VISIBLE_DEVICES: [0,1,2,3,4,5]\n",
      "\n",
      "  | Name                    | Type                  | Params\n",
      "------------------------------------------------------------------\n",
      "0 | hrvsatellite_processor  | HRVSatelliteProcessor | 0     \n",
      "1 | decoder_query_generator | QueryGenerator        | 32.0 K\n",
      "2 | perceiver_io            | PerceiverIO           | 1.1 M \n",
      "3 | output_module           | Sequential            | 1.4 K \n",
      "------------------------------------------------------------------\n",
      "1.2 M     Trainable params\n",
      "0         Non-trainable params\n",
      "1.2 M     Total params\n",
      "4.729     Total estimated model params size (MB)\n"
     ]
    },
    {
     "name": "stdout",
     "output_type": "stream",
     "text": [
      "Sanity Checking DataLoader 0:   0%|                                                             | 0/2 [00:01<?, ?it/s]"
     ]
    },
    {
     "name": "stderr",
     "output_type": "stream",
     "text": [
      "/home/jack/miniconda3/envs/power_perceiver/lib/python3.10/site-packages/sklearn/manifold/_t_sne.py:982: FutureWarning: The PCA initialization in TSNE will change to have the standard deviation of PC1 equal to 1e-4 in 1.2. This will ensure better convergence.\n",
      "  warnings.warn(\n"
     ]
    },
    {
     "name": "stdout",
     "output_type": "stream",
     "text": [
      "Epoch 0:   0%|                                                                               | 0/8800 [00:00<?, ?it/s]"
     ]
    },
    {
     "name": "stderr",
     "output_type": "stream",
     "text": [
      "/home/jack/miniconda3/envs/power_perceiver/lib/python3.10/site-packages/sklearn/manifold/_t_sne.py:982: FutureWarning: The PCA initialization in TSNE will change to have the standard deviation of PC1 equal to 1e-4 in 1.2. This will ensure better convergence.\n",
      "  warnings.warn(\n"
     ]
    },
    {
     "name": "stdout",
     "output_type": "stream",
     "text": [
      "Epoch 0:  95%|█████████████████████████████████████████  | 8400/8800 [03:18<00:09, 42.42it/s, loss=0.0228, v_num=jcp6]"
     ]
    },
    {
     "name": "stderr",
     "output_type": "stream",
     "text": [
      "/home/jack/miniconda3/envs/power_perceiver/lib/python3.10/site-packages/sklearn/manifold/_t_sne.py:982: FutureWarning: The PCA initialization in TSNE will change to have the standard deviation of PC1 equal to 1e-4 in 1.2. This will ensure better convergence.\n",
      "  warnings.warn(\n"
     ]
    },
    {
     "name": "stdout",
     "output_type": "stream",
     "text": [
      "Epoch 1: 100%|███████████████████████████████████████████| 8800/8800 [03:35<00:00, 40.89it/s, loss=0.0228, v_num=jcp6]"
     ]
    },
    {
     "name": "stderr",
     "output_type": "stream",
     "text": [
      "/home/jack/miniconda3/envs/power_perceiver/lib/python3.10/site-packages/sklearn/manifold/_t_sne.py:982: FutureWarning: The PCA initialization in TSNE will change to have the standard deviation of PC1 equal to 1e-4 in 1.2. This will ensure better convergence.\n",
      "  warnings.warn(\n"
     ]
    },
    {
     "name": "stdout",
     "output_type": "stream",
     "text": [
      "Epoch 1:  95%|█████████████████████████████████████████  | 8400/8800 [06:58<00:19, 20.08it/s, loss=0.0187, v_num=jcp6]"
     ]
    },
    {
     "name": "stderr",
     "output_type": "stream",
     "text": [
      "/home/jack/miniconda3/envs/power_perceiver/lib/python3.10/site-packages/sklearn/manifold/_t_sne.py:982: FutureWarning: The PCA initialization in TSNE will change to have the standard deviation of PC1 equal to 1e-4 in 1.2. This will ensure better convergence.\n",
      "  warnings.warn(\n"
     ]
    },
    {
     "name": "stdout",
     "output_type": "stream",
     "text": [
      "Epoch 2: 100%|███████████████████████████████████████████| 8800/8800 [07:15<00:00, 20.22it/s, loss=0.0187, v_num=jcp6]"
     ]
    },
    {
     "name": "stderr",
     "output_type": "stream",
     "text": [
      "/home/jack/miniconda3/envs/power_perceiver/lib/python3.10/site-packages/sklearn/manifold/_t_sne.py:982: FutureWarning: The PCA initialization in TSNE will change to have the standard deviation of PC1 equal to 1e-4 in 1.2. This will ensure better convergence.\n",
      "  warnings.warn(\n"
     ]
    },
    {
     "name": "stdout",
     "output_type": "stream",
     "text": [
      "Epoch 2:  95%|█████████████████████████████████████████  | 8400/8800 [10:43<00:30, 13.05it/s, loss=0.0163, v_num=jcp6]"
     ]
    },
    {
     "name": "stderr",
     "output_type": "stream",
     "text": [
      "/home/jack/miniconda3/envs/power_perceiver/lib/python3.10/site-packages/sklearn/manifold/_t_sne.py:982: FutureWarning: The PCA initialization in TSNE will change to have the standard deviation of PC1 equal to 1e-4 in 1.2. This will ensure better convergence.\n",
      "  warnings.warn(\n"
     ]
    },
    {
     "name": "stdout",
     "output_type": "stream",
     "text": [
      "Epoch 3: 100%|███████████████████████████████████████████| 8800/8800 [11:00<00:00, 13.32it/s, loss=0.0163, v_num=jcp6]"
     ]
    },
    {
     "name": "stderr",
     "output_type": "stream",
     "text": [
      "/home/jack/miniconda3/envs/power_perceiver/lib/python3.10/site-packages/sklearn/manifold/_t_sne.py:982: FutureWarning: The PCA initialization in TSNE will change to have the standard deviation of PC1 equal to 1e-4 in 1.2. This will ensure better convergence.\n",
      "  warnings.warn(\n"
     ]
    },
    {
     "name": "stdout",
     "output_type": "stream",
     "text": [
      "Epoch 3:  95%|█████████████████████████████████████████  | 8400/8800 [14:17<00:40,  9.80it/s, loss=0.0154, v_num=jcp6]"
     ]
    },
    {
     "name": "stderr",
     "output_type": "stream",
     "text": [
      "/home/jack/miniconda3/envs/power_perceiver/lib/python3.10/site-packages/sklearn/manifold/_t_sne.py:982: FutureWarning: The PCA initialization in TSNE will change to have the standard deviation of PC1 equal to 1e-4 in 1.2. This will ensure better convergence.\n",
      "  warnings.warn(\n"
     ]
    },
    {
     "name": "stdout",
     "output_type": "stream",
     "text": [
      "Epoch 4: 100%|███████████████████████████████████████████| 8800/8800 [14:34<00:00, 10.07it/s, loss=0.0154, v_num=jcp6]"
     ]
    },
    {
     "name": "stderr",
     "output_type": "stream",
     "text": [
      "/home/jack/miniconda3/envs/power_perceiver/lib/python3.10/site-packages/sklearn/manifold/_t_sne.py:982: FutureWarning: The PCA initialization in TSNE will change to have the standard deviation of PC1 equal to 1e-4 in 1.2. This will ensure better convergence.\n",
      "  warnings.warn(\n"
     ]
    },
    {
     "name": "stdout",
     "output_type": "stream",
     "text": [
      "Epoch 4:  10%|████▏                                     | 883/8800 [16:16<2:25:57,  1.11s/it, loss=0.0143, v_num=jcp6]"
     ]
    },
    {
     "name": "stderr",
     "output_type": "stream",
     "text": [
      "Exception ignored in: <function _MultiProcessingDataLoaderIter.__del__ at 0x7f99e7608280>\n",
      "Traceback (most recent call last):\n",
      "  File \"/home/jack/miniconda3/envs/power_perceiver/lib/python3.10/site-packages/torch/utils/data/dataloader.py\", line 1358, in __del__\n",
      "    self._shutdown_workers()\n",
      "  File \"/home/jack/miniconda3/envs/power_perceiver/lib/python3.10/site-packages/torch/utils/data/dataloader.py\", line 1341, in _shutdown_workers\n",
      "    if w.is_alive():\n",
      "  File \"/home/jack/miniconda3/envs/power_perceiver/lib/python3.10/multiprocessing/process.py\", line 160, in is_alive\n",
      "    assert self._parent_pid == os.getpid(), 'can only test a child process'\n",
      "AssertionError: can only test a child process\n"
     ]
    },
    {
     "name": "stdout",
     "output_type": "stream",
     "text": [
      "Epoch 4:  10%|████▎                                      | 884/8800 [16:16<2:25:47,  1.11s/it, loss=0.014, v_num=jcp6]"
     ]
    },
    {
     "name": "stderr",
     "output_type": "stream",
     "text": [
      "Exception ignored in: <function _MultiProcessingDataLoaderIter.__del__ at 0x7f99e7608280>\n",
      "Traceback (most recent call last):\n",
      "  File \"/home/jack/miniconda3/envs/power_perceiver/lib/python3.10/site-packages/torch/utils/data/dataloader.py\", line 1358, in __del__\n",
      "    self._shutdown_workers()\n",
      "  File \"/home/jack/miniconda3/envs/power_perceiver/lib/python3.10/site-packages/torch/utils/data/dataloader.py\", line 1341, in _shutdown_workers\n",
      "    if w.is_alive():\n",
      "  File \"/home/jack/miniconda3/envs/power_perceiver/lib/python3.10/multiprocessing/process.py\", line 160, in is_alive\n",
      "    assert self._parent_pid == os.getpid(), 'can only test a child process'\n",
      "AssertionError: can only test a child process\n",
      "Exception ignored in: <function _MultiProcessingDataLoaderIter.__del__ at 0x7f99e7608280>\n",
      "Traceback (most recent call last):\n",
      "  File \"/home/jack/miniconda3/envs/power_perceiver/lib/python3.10/site-packages/torch/utils/data/dataloader.py\", line 1358, in __del__\n",
      "    self._shutdown_workers()\n",
      "  File \"/home/jack/miniconda3/envs/power_perceiver/lib/python3.10/site-packages/torch/utils/data/dataloader.py\", line 1341, in _shutdown_workers\n",
      "    if w.is_alive():\n",
      "  File \"/home/jack/miniconda3/envs/power_perceiver/lib/python3.10/multiprocessing/process.py\", line 160, in is_alive\n",
      "    assert self._parent_pid == os.getpid(), 'can only test a child process'\n",
      "AssertionError: can only test a child process\n"
     ]
    },
    {
     "name": "stdout",
     "output_type": "stream",
     "text": [
      "Epoch 4:  11%|████▍                                     | 937/8800 [16:18<2:16:48,  1.04s/it, loss=0.0145, v_num=jcp6]"
     ]
    },
    {
     "name": "stderr",
     "output_type": "stream",
     "text": [
      "Exception ignored in: <function _MultiProcessingDataLoaderIter.__del__ at 0x7f99e7608280>\n",
      "Traceback (most recent call last):\n",
      "  File \"/home/jack/miniconda3/envs/power_perceiver/lib/python3.10/site-packages/torch/utils/data/dataloader.py\", line 1358, in __del__\n",
      "    self._shutdown_workers()\n",
      "  File \"/home/jack/miniconda3/envs/power_perceiver/lib/python3.10/site-packages/torch/utils/data/dataloader.py\", line 1341, in _shutdown_workers\n",
      "    if w.is_alive():\n",
      "  File \"/home/jack/miniconda3/envs/power_perceiver/lib/python3.10/multiprocessing/process.py\", line 160, in is_alive\n",
      "    assert self._parent_pid == os.getpid(), 'can only test a child process'\n",
      "AssertionError: can only test a child process\n"
     ]
    },
    {
     "name": "stdout",
     "output_type": "stream",
     "text": [
      "Epoch 4:  11%|████▍                                     | 938/8800 [16:18<2:16:39,  1.04s/it, loss=0.0145, v_num=jcp6]"
     ]
    },
    {
     "name": "stderr",
     "output_type": "stream",
     "text": [
      "Exception ignored in: "
     ]
    },
    {
     "name": "stdout",
     "output_type": "stream",
     "text": [
      "Epoch 4:  11%|████▍                                     | 938/8800 [16:18<2:16:39,  1.04s/it, loss=0.0147, v_num=jcp6]"
     ]
    },
    {
     "name": "stderr",
     "output_type": "stream",
     "text": [
      "<function _MultiProcessingDataLoaderIter.__del__ at 0x7f99e7608280>\n",
      "Traceback (most recent call last):\n",
      "  File \"/home/jack/miniconda3/envs/power_perceiver/lib/python3.10/site-packages/torch/utils/data/dataloader.py\", line 1358, in __del__\n",
      "    self._shutdown_workers()\n",
      "  File \"/home/jack/miniconda3/envs/power_perceiver/lib/python3.10/site-packages/torch/utils/data/dataloader.py\", line 1341, in _shutdown_workers\n",
      "    if w.is_alive():\n",
      "  File \"/home/jack/miniconda3/envs/power_perceiver/lib/python3.10/multiprocessing/process.py\", line 160, in is_alive\n",
      "    assert self._parent_pid == os.getpid(), 'can only test a child process'\n",
      "AssertionError: can only test a child process\n"
     ]
    },
    {
     "name": "stdout",
     "output_type": "stream",
     "text": [
      "Epoch 4:  11%|████▍                                     | 940/8800 [16:18<2:16:19,  1.04s/it, loss=0.0149, v_num=jcp6]"
     ]
    },
    {
     "name": "stderr",
     "output_type": "stream",
     "text": [
      "Exception ignored in: Exception ignored in: "
     ]
    },
    {
     "name": "stdout",
     "output_type": "stream",
     "text": [
      "Epoch 4:  11%|████▍                                     | 940/8800 [16:18<2:16:19,  1.04s/it, loss=0.0148, v_num=jcp6]"
     ]
    },
    {
     "name": "stderr",
     "output_type": "stream",
     "text": [
      "<function _MultiProcessingDataLoaderIter.__del__ at 0x7f99e7608280><function _MultiProcessingDataLoaderIter.__del__ at 0x7f99e7608280>\n",
      "\n",
      "Traceback (most recent call last):\n",
      "Traceback (most recent call last):\n",
      "  File \"/home/jack/miniconda3/envs/power_perceiver/lib/python3.10/site-packages/torch/utils/data/dataloader.py\", line 1358, in __del__\n",
      "  File \"/home/jack/miniconda3/envs/power_perceiver/lib/python3.10/site-packages/torch/utils/data/dataloader.py\", line 1358, in __del__\n",
      "        self._shutdown_workers()self._shutdown_workers()\n",
      "\n",
      "  File \"/home/jack/miniconda3/envs/power_perceiver/lib/python3.10/site-packages/torch/utils/data/dataloader.py\", line 1341, in _shutdown_workers\n",
      "  File \"/home/jack/miniconda3/envs/power_perceiver/lib/python3.10/site-packages/torch/utils/data/dataloader.py\", line 1341, in _shutdown_workers\n",
      "        if w.is_alive():if w.is_alive():\n",
      "\n",
      "  File \"/home/jack/miniconda3/envs/power_perceiver/lib/python3.10/multiprocessing/process.py\", line 160, in is_alive\n",
      "  File \"/home/jack/miniconda3/envs/power_perceiver/lib/python3.10/multiprocessing/process.py\", line 160, in is_alive\n",
      "        assert self._parent_pid == os.getpid(), 'can only test a child process'assert self._parent_pid == os.getpid(), 'can only test a child process'\n",
      "\n",
      "AssertionErrorAssertionError: : can only test a child processcan only test a child process\n",
      "\n"
     ]
    },
    {
     "name": "stdout",
     "output_type": "stream",
     "text": [
      "Epoch 4:  21%|████████▊                                | 1889/8800 [16:41<1:01:03,  1.89it/s, loss=0.0138, v_num=jcp6]"
     ]
    },
    {
     "name": "stderr",
     "output_type": "stream",
     "text": [
      "Exception ignored in: <function _MultiProcessingDataLoaderIter.__del__ at 0x7f99e7608280>\n",
      "Traceback (most recent call last):\n",
      "  File \"/home/jack/miniconda3/envs/power_perceiver/lib/python3.10/site-packages/torch/utils/data/dataloader.py\", line 1358, in __del__\n",
      "    self._shutdown_workers()\n",
      "  File \"/home/jack/miniconda3/envs/power_perceiver/lib/python3.10/site-packages/torch/utils/data/dataloader.py\", line 1341, in _shutdown_workers\n",
      "    if w.is_alive():\n",
      "  File \"/home/jack/miniconda3/envs/power_perceiver/lib/python3.10/multiprocessing/process.py\", line 160, in is_alive\n",
      "    assert self._parent_pid == os.getpid(), 'can only test a child process'\n",
      "AssertionError: can only test a child process\n",
      "Exception ignored in: <function _MultiProcessingDataLoaderIter.__del__ at 0x7f99e7608280>\n",
      "Traceback (most recent call last):\n",
      "  File \"/home/jack/miniconda3/envs/power_perceiver/lib/python3.10/site-packages/torch/utils/data/dataloader.py\", line 1358, in __del__\n",
      "    self._shutdown_workers()\n",
      "  File \"/home/jack/miniconda3/envs/power_perceiver/lib/python3.10/site-packages/torch/utils/data/dataloader.py\", line 1341, in _shutdown_workers\n",
      "    if w.is_alive():\n",
      "  File \"/home/jack/miniconda3/envs/power_perceiver/lib/python3.10/multiprocessing/process.py\", line 160, in is_alive\n",
      "    assert self._parent_pid == os.getpid(), 'can only test a child process'\n",
      "AssertionError: can only test a child process\n",
      "Exception ignored in: <function _MultiProcessingDataLoaderIter.__del__ at 0x7f99e7608280>\n",
      "Traceback (most recent call last):\n",
      "  File \"/home/jack/miniconda3/envs/power_perceiver/lib/python3.10/site-packages/torch/utils/data/dataloader.py\", line 1358, in __del__\n",
      "    self._shutdown_workers()\n",
      "  File \"/home/jack/miniconda3/envs/power_perceiver/lib/python3.10/site-packages/torch/utils/data/dataloader.py\", line 1341, in _shutdown_workers\n",
      "    if w.is_alive():\n",
      "  File \"/home/jack/miniconda3/envs/power_perceiver/lib/python3.10/multiprocessing/process.py\", line 160, in is_alive\n",
      "    assert self._parent_pid == os.getpid(), 'can only test a child process'\n",
      "AssertionError: Exception ignored in: can only test a child process<function _MultiProcessingDataLoaderIter.__del__ at 0x7f99e7608280>\n",
      "\n",
      "Traceback (most recent call last):\n",
      "  File \"/home/jack/miniconda3/envs/power_perceiver/lib/python3.10/site-packages/torch/utils/data/dataloader.py\", line 1358, in __del__\n",
      "    self._shutdown_workers()\n",
      "  File \"/home/jack/miniconda3/envs/power_perceiver/lib/python3.10/site-packages/torch/utils/data/dataloader.py\", line 1341, in _shutdown_workers\n",
      "    if w.is_alive():\n",
      "  File \"/home/jack/miniconda3/envs/power_perceiver/lib/python3.10/multiprocessing/process.py\", line 160, in is_alive\n",
      "    assert self._parent_pid == os.getpid(), 'can only test a child process'\n",
      "AssertionError: can only test a child process\n"
     ]
    },
    {
     "name": "stdout",
     "output_type": "stream",
     "text": [
      "Epoch 4:  21%|████████▊                                | 1890/8800 [16:41<1:01:01,  1.89it/s, loss=0.0138, v_num=jcp6]"
     ]
    },
    {
     "name": "stderr",
     "output_type": "stream",
     "text": [
      "Exception ignored in: <function _MultiProcessingDataLoaderIter.__del__ at 0x7f99e7608280>\n",
      "Traceback (most recent call last):\n",
      "  File \"/home/jack/miniconda3/envs/power_perceiver/lib/python3.10/site-packages/torch/utils/data/dataloader.py\", line 1358, in __del__\n",
      "    self._shutdown_workers()\n",
      "  File \"/home/jack/miniconda3/envs/power_perceiver/lib/python3.10/site-packages/torch/utils/data/dataloader.py\", line 1341, in _shutdown_workers\n",
      "    if w.is_alive():\n",
      "  File \"/home/jack/miniconda3/envs/power_perceiver/lib/python3.10/multiprocessing/process.py\", line 160, in is_alive\n",
      "    assert self._parent_pid == os.getpid(), 'can only test a child process'\n",
      "AssertionError: can only test a child process\n"
     ]
    },
    {
     "name": "stdout",
     "output_type": "stream",
     "text": [
      "Epoch 4:  21%|████████▊                                | 1891/8800 [16:41<1:00:59,  1.89it/s, loss=0.0138, v_num=jcp6]"
     ]
    },
    {
     "name": "stderr",
     "output_type": "stream",
     "text": [
      "Exception ignored in: <function _MultiProcessingDataLoaderIter.__del__ at 0x7f99e7608280>\n",
      "Traceback (most recent call last):\n",
      "  File \"/home/jack/miniconda3/envs/power_perceiver/lib/python3.10/site-packages/torch/utils/data/dataloader.py\", line 1358, in __del__\n",
      "    self._shutdown_workers()\n",
      "  File \"/home/jack/miniconda3/envs/power_perceiver/lib/python3.10/site-packages/torch/utils/data/dataloader.py\", line 1341, in _shutdown_workers\n",
      "    if w.is_alive():\n",
      "  File \"/home/jack/miniconda3/envs/power_perceiver/lib/python3.10/multiprocessing/process.py\", line 160, in is_alive\n",
      "    assert self._parent_pid == os.getpid(), 'can only test a child process'\n",
      "AssertionError: can only test a child process\n",
      "Exception ignored in: <function _MultiProcessingDataLoaderIter.__del__ at 0x7f99e7608280>\n",
      "Traceback (most recent call last):\n",
      "  File \"/home/jack/miniconda3/envs/power_perceiver/lib/python3.10/site-packages/torch/utils/data/dataloader.py\", line 1358, in __del__\n",
      "    "
     ]
    },
    {
     "name": "stdout",
     "output_type": "stream",
     "text": [
      "Epoch 4:  22%|████████▊                                | 1892/8800 [16:41<1:00:57,  1.89it/s, loss=0.0138, v_num=jcp6]"
     ]
    },
    {
     "name": "stderr",
     "output_type": "stream",
     "text": [
      "self._shutdown_workers()"
     ]
    },
    {
     "name": "stdout",
     "output_type": "stream",
     "text": [
      "Epoch 4:  22%|████████▊                                | 1892/8800 [16:41<1:00:57,  1.89it/s, loss=0.0135, v_num=jcp6]"
     ]
    },
    {
     "name": "stderr",
     "output_type": "stream",
     "text": [
      "\n",
      "  File \"/home/jack/miniconda3/envs/power_perceiver/lib/python3.10/site-packages/torch/utils/data/dataloader.py\", line 1341, in _shutdown_workers\n",
      "Exception ignored in:     if w.is_alive():<function _MultiProcessingDataLoaderIter.__del__ at 0x7f99e7608280>\n",
      "\n",
      "  File \"/home/jack/miniconda3/envs/power_perceiver/lib/python3.10/multiprocessing/process.py\", line 160, in is_alive\n",
      "Traceback (most recent call last):\n",
      "  File \"/home/jack/miniconda3/envs/power_perceiver/lib/python3.10/site-packages/torch/utils/data/dataloader.py\", line 1358, in __del__\n",
      "    assert self._parent_pid == os.getpid(), 'can only test a child process'    \n",
      "self._shutdown_workers()AssertionError\n",
      ":   File \"/home/jack/miniconda3/envs/power_perceiver/lib/python3.10/site-packages/torch/utils/data/dataloader.py\", line 1341, in _shutdown_workers\n",
      "can only test a child process    \n",
      "if w.is_alive():\n",
      "  File \"/home/jack/miniconda3/envs/power_perceiver/lib/python3.10/multiprocessing/process.py\", line 160, in is_alive\n",
      "    assert self._parent_pid == os.getpid(), 'can only test a child process'\n",
      "AssertionError: can only test a child process\n"
     ]
    },
    {
     "name": "stdout",
     "output_type": "stream",
     "text": [
      "Epoch 4:  22%|█████████▌                                 | 1959/8800 [16:43<58:23,  1.95it/s, loss=0.0137, v_num=jcp6]"
     ]
    },
    {
     "name": "stderr",
     "output_type": "stream",
     "text": [
      "Exception ignored in: <function _MultiProcessingDataLoaderIter.__del__ at 0x7f99e7608280>\n",
      "Traceback (most recent call last):\n",
      "  File \"/home/jack/miniconda3/envs/power_perceiver/lib/python3.10/site-packages/torch/utils/data/dataloader.py\", line 1358, in __del__\n",
      "    self._shutdown_workers()\n",
      "  File \"/home/jack/miniconda3/envs/power_perceiver/lib/python3.10/site-packages/torch/utils/data/dataloader.py\", line 1341, in _shutdown_workers\n",
      "    if w.is_alive():\n",
      "  File \"/home/jack/miniconda3/envs/power_perceiver/lib/python3.10/multiprocessing/process.py\", line 160, in is_alive\n",
      "    assert self._parent_pid == os.getpid(), 'can only test a child process'\n",
      "AssertionError: can only test a child process\n"
     ]
    },
    {
     "name": "stdout",
     "output_type": "stream",
     "text": [
      "Epoch 4:  95%|█████████████████████████████████████████  | 8400/8800 [19:12<00:54,  7.29it/s, loss=0.0147, v_num=jcp6]"
     ]
    },
    {
     "name": "stderr",
     "output_type": "stream",
     "text": [
      "/home/jack/miniconda3/envs/power_perceiver/lib/python3.10/site-packages/sklearn/manifold/_t_sne.py:982: FutureWarning: The PCA initialization in TSNE will change to have the standard deviation of PC1 equal to 1e-4 in 1.2. This will ensure better convergence.\n",
      "  warnings.warn(\n"
     ]
    },
    {
     "name": "stdout",
     "output_type": "stream",
     "text": [
      "Epoch 5: 100%|███████████████████████████████████████████| 8800/8800 [19:29<00:00,  7.52it/s, loss=0.0147, v_num=jcp6]"
     ]
    },
    {
     "name": "stderr",
     "output_type": "stream",
     "text": [
      "/home/jack/miniconda3/envs/power_perceiver/lib/python3.10/site-packages/sklearn/manifold/_t_sne.py:982: FutureWarning: The PCA initialization in TSNE will change to have the standard deviation of PC1 equal to 1e-4 in 1.2. This will ensure better convergence.\n",
      "  warnings.warn(\n"
     ]
    },
    {
     "name": "stdout",
     "output_type": "stream",
     "text": [
      "Epoch 5:  95%|█████████████████████████████████████████  | 8400/8800 [22:44<01:04,  6.16it/s, loss=0.0143, v_num=jcp6]"
     ]
    },
    {
     "name": "stderr",
     "output_type": "stream",
     "text": [
      "/home/jack/miniconda3/envs/power_perceiver/lib/python3.10/site-packages/sklearn/manifold/_t_sne.py:982: FutureWarning: The PCA initialization in TSNE will change to have the standard deviation of PC1 equal to 1e-4 in 1.2. This will ensure better convergence.\n",
      "  warnings.warn(\n"
     ]
    },
    {
     "name": "stdout",
     "output_type": "stream",
     "text": [
      "Epoch 6: 100%|███████████████████████████████████████████| 8800/8800 [23:01<00:00,  6.37it/s, loss=0.0143, v_num=jcp6]"
     ]
    },
    {
     "name": "stderr",
     "output_type": "stream",
     "text": [
      "/home/jack/miniconda3/envs/power_perceiver/lib/python3.10/site-packages/sklearn/manifold/_t_sne.py:982: FutureWarning: The PCA initialization in TSNE will change to have the standard deviation of PC1 equal to 1e-4 in 1.2. This will ensure better convergence.\n",
      "  warnings.warn(\n"
     ]
    },
    {
     "name": "stdout",
     "output_type": "stream",
     "text": [
      "Epoch 6:  95%|██████████████████████████████████████████  | 8400/8800 [26:24<01:15,  5.30it/s, loss=0.014, v_num=jcp6]"
     ]
    },
    {
     "name": "stderr",
     "output_type": "stream",
     "text": [
      "/home/jack/miniconda3/envs/power_perceiver/lib/python3.10/site-packages/sklearn/manifold/_t_sne.py:982: FutureWarning: The PCA initialization in TSNE will change to have the standard deviation of PC1 equal to 1e-4 in 1.2. This will ensure better convergence.\n",
      "  warnings.warn(\n"
     ]
    },
    {
     "name": "stdout",
     "output_type": "stream",
     "text": [
      "Epoch 7: 100%|████████████████████████████████████████████| 8800/8800 [26:41<00:00,  5.49it/s, loss=0.014, v_num=jcp6]"
     ]
    },
    {
     "name": "stderr",
     "output_type": "stream",
     "text": [
      "/home/jack/miniconda3/envs/power_perceiver/lib/python3.10/site-packages/sklearn/manifold/_t_sne.py:982: FutureWarning: The PCA initialization in TSNE will change to have the standard deviation of PC1 equal to 1e-4 in 1.2. This will ensure better convergence.\n",
      "  warnings.warn(\n"
     ]
    },
    {
     "name": "stdout",
     "output_type": "stream",
     "text": [
      "Epoch 7:  95%|█████████████████████████████████████████  | 8400/8800 [29:57<01:25,  4.67it/s, loss=0.0137, v_num=jcp6]"
     ]
    },
    {
     "name": "stderr",
     "output_type": "stream",
     "text": [
      "/home/jack/miniconda3/envs/power_perceiver/lib/python3.10/site-packages/sklearn/manifold/_t_sne.py:982: FutureWarning: The PCA initialization in TSNE will change to have the standard deviation of PC1 equal to 1e-4 in 1.2. This will ensure better convergence.\n",
      "  warnings.warn(\n"
     ]
    },
    {
     "name": "stdout",
     "output_type": "stream",
     "text": [
      "Epoch 8: 100%|███████████████████████████████████████████| 8800/8800 [30:15<00:00,  4.85it/s, loss=0.0137, v_num=jcp6]"
     ]
    },
    {
     "name": "stderr",
     "output_type": "stream",
     "text": [
      "/home/jack/miniconda3/envs/power_perceiver/lib/python3.10/site-packages/sklearn/manifold/_t_sne.py:982: FutureWarning: The PCA initialization in TSNE will change to have the standard deviation of PC1 equal to 1e-4 in 1.2. This will ensure better convergence.\n",
      "  warnings.warn(\n"
     ]
    },
    {
     "name": "stdout",
     "output_type": "stream",
     "text": [
      "Epoch 8:  95%|█████████████████████████████████████████  | 8400/8800 [33:29<01:35,  4.18it/s, loss=0.0135, v_num=jcp6]"
     ]
    },
    {
     "name": "stderr",
     "output_type": "stream",
     "text": [
      "/home/jack/miniconda3/envs/power_perceiver/lib/python3.10/site-packages/sklearn/manifold/_t_sne.py:982: FutureWarning: The PCA initialization in TSNE will change to have the standard deviation of PC1 equal to 1e-4 in 1.2. This will ensure better convergence.\n",
      "  warnings.warn(\n"
     ]
    },
    {
     "name": "stdout",
     "output_type": "stream",
     "text": [
      "Epoch 9: 100%|███████████████████████████████████████████| 8800/8800 [35:06<00:00,  4.18it/s, loss=0.0135, v_num=jcp6]"
     ]
    },
    {
     "name": "stderr",
     "output_type": "stream",
     "text": [
      "/home/jack/miniconda3/envs/power_perceiver/lib/python3.10/site-packages/sklearn/manifold/_t_sne.py:982: FutureWarning: The PCA initialization in TSNE will change to have the standard deviation of PC1 equal to 1e-4 in 1.2. This will ensure better convergence.\n",
      "  warnings.warn(\n"
     ]
    },
    {
     "name": "stdout",
     "output_type": "stream",
     "text": [
      "Epoch 9:  95%|█████████████████████████████████████████  | 8400/8800 [38:23<01:49,  3.65it/s, loss=0.0132, v_num=jcp6]"
     ]
    },
    {
     "name": "stderr",
     "output_type": "stream",
     "text": [
      "/home/jack/miniconda3/envs/power_perceiver/lib/python3.10/site-packages/sklearn/manifold/_t_sne.py:982: FutureWarning: The PCA initialization in TSNE will change to have the standard deviation of PC1 equal to 1e-4 in 1.2. This will ensure better convergence.\n",
      "  warnings.warn(\n"
     ]
    },
    {
     "name": "stdout",
     "output_type": "stream",
     "text": [
      "Epoch 10: 100%|██████████████████████████████████████████| 8800/8800 [38:39<00:00,  3.79it/s, loss=0.0132, v_num=jcp6]"
     ]
    },
    {
     "name": "stderr",
     "output_type": "stream",
     "text": [
      "/home/jack/miniconda3/envs/power_perceiver/lib/python3.10/site-packages/sklearn/manifold/_t_sne.py:982: FutureWarning: The PCA initialization in TSNE will change to have the standard deviation of PC1 equal to 1e-4 in 1.2. This will ensure better convergence.\n",
      "  warnings.warn(\n"
     ]
    },
    {
     "name": "stdout",
     "output_type": "stream",
     "text": [
      "Epoch 10:  95%|█████████████████████████████████████████  | 8400/8800 [41:55<01:59,  3.34it/s, loss=0.013, v_num=jcp6]"
     ]
    },
    {
     "name": "stderr",
     "output_type": "stream",
     "text": [
      "/home/jack/miniconda3/envs/power_perceiver/lib/python3.10/site-packages/sklearn/manifold/_t_sne.py:982: FutureWarning: The PCA initialization in TSNE will change to have the standard deviation of PC1 equal to 1e-4 in 1.2. This will ensure better convergence.\n",
      "  warnings.warn(\n"
     ]
    },
    {
     "name": "stdout",
     "output_type": "stream",
     "text": [
      "Epoch 11: 100%|███████████████████████████████████████████| 8800/8800 [42:12<00:00,  3.47it/s, loss=0.013, v_num=jcp6]"
     ]
    },
    {
     "name": "stderr",
     "output_type": "stream",
     "text": [
      "/home/jack/miniconda3/envs/power_perceiver/lib/python3.10/site-packages/sklearn/manifold/_t_sne.py:982: FutureWarning: The PCA initialization in TSNE will change to have the standard deviation of PC1 equal to 1e-4 in 1.2. This will ensure better convergence.\n",
      "  warnings.warn(\n"
     ]
    },
    {
     "name": "stdout",
     "output_type": "stream",
     "text": [
      "Epoch 11:  95%|████████████████████████████████████████  | 8400/8800 [45:27<02:09,  3.08it/s, loss=0.0128, v_num=jcp6]"
     ]
    },
    {
     "name": "stderr",
     "output_type": "stream",
     "text": [
      "/home/jack/miniconda3/envs/power_perceiver/lib/python3.10/site-packages/sklearn/manifold/_t_sne.py:982: FutureWarning: The PCA initialization in TSNE will change to have the standard deviation of PC1 equal to 1e-4 in 1.2. This will ensure better convergence.\n",
      "  warnings.warn(\n"
     ]
    },
    {
     "name": "stdout",
     "output_type": "stream",
     "text": [
      "Epoch 12: 100%|██████████████████████████████████████████| 8800/8800 [47:04<00:00,  3.12it/s, loss=0.0128, v_num=jcp6]"
     ]
    },
    {
     "name": "stderr",
     "output_type": "stream",
     "text": [
      "/home/jack/miniconda3/envs/power_perceiver/lib/python3.10/site-packages/sklearn/manifold/_t_sne.py:982: FutureWarning: The PCA initialization in TSNE will change to have the standard deviation of PC1 equal to 1e-4 in 1.2. This will ensure better convergence.\n",
      "  warnings.warn(\n"
     ]
    },
    {
     "name": "stdout",
     "output_type": "stream",
     "text": [
      "Epoch 12:  95%|████████████████████████████████████████  | 8400/8800 [50:31<02:24,  2.77it/s, loss=0.0125, v_num=jcp6]"
     ]
    },
    {
     "name": "stderr",
     "output_type": "stream",
     "text": [
      "/home/jack/miniconda3/envs/power_perceiver/lib/python3.10/site-packages/sklearn/manifold/_t_sne.py:982: FutureWarning: The PCA initialization in TSNE will change to have the standard deviation of PC1 equal to 1e-4 in 1.2. This will ensure better convergence.\n",
      "  warnings.warn(\n"
     ]
    },
    {
     "name": "stdout",
     "output_type": "stream",
     "text": [
      "Epoch 13: 100%|██████████████████████████████████████████| 8800/8800 [50:48<00:00,  2.89it/s, loss=0.0125, v_num=jcp6]"
     ]
    }
   ],
   "source": [
    "trainer.fit(\n",
    "    model=model, \n",
    "    train_dataloaders=train_dataloader,\n",
    "    val_dataloaders=val_dataloader,\n",
    "    )"
   ]
  },
  {
   "cell_type": "code",
   "execution_count": null,
   "metadata": {},
   "outputs": [],
   "source": []
  }
 ],
 "metadata": {
  "interpreter": {
   "hash": "6e018056da7ac22974c0de454ad66e6f150c494c7b54611c2027650045c28434"
  },
  "kernelspec": {
   "display_name": "power_perceiver",
   "language": "python",
   "name": "power_perceiver"
  },
  "language_info": {
   "codemirror_mode": {
    "name": "ipython",
    "version": 3
   },
   "file_extension": ".py",
   "mimetype": "text/x-python",
   "name": "python",
   "nbconvert_exporter": "python",
   "pygments_lexer": "ipython3",
   "version": "3.10.4"
  },
  "orig_nbformat": 4
 },
 "nbformat": 4,
 "nbformat_minor": 2
}
