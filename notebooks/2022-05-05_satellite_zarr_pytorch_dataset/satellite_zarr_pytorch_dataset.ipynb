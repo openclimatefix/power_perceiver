{
 "cells": [
  {
   "cell_type": "code",
   "execution_count": 1,
   "metadata": {},
   "outputs": [
    {
     "name": "stderr",
     "output_type": "stream",
     "text": [
      "/home/jack/miniconda3/envs/power_perceiver/lib/python3.10/site-packages/tqdm/auto.py:22: TqdmWarning: IProgress not found. Please update jupyter and ipywidgets. See https://ipywidgets.readthedocs.io/en/stable/user_install.html\n",
      "  from .autonotebook import tqdm as notebook_tqdm\n"
     ]
    }
   ],
   "source": [
    "import matplotlib.pyplot as plt\n",
    "import torch\n",
    "import logging\n",
    "\n",
    "\n",
    "from power_perceiver.data_loader.data_loader import BatchKey\n",
    "from power_perceiver.data_loader.satellite_from_zarr import SatelliteDataset, worker_init_fn\n",
    "\n",
    "\n",
    "logging.basicConfig()\n",
    "_log = logging.getLogger(\"power_perceiver\")\n",
    "_log.setLevel(logging.DEBUG)\n",
    "\n",
    "plt.rcParams[\"figure.figsize\"] = (20, 12)"
   ]
  },
  {
   "cell_type": "code",
   "execution_count": 2,
   "metadata": {},
   "outputs": [],
   "source": [
    "SATELLITE_ZARR_PATH = (\n",
    "    \"gs://public-datasets-eumetsat-solar-forecasting/satellite/EUMETSAT/SEVIRI_RSS/v3/eumetsat_seviri_hrv_uk.zarr\")"
   ]
  },
  {
   "cell_type": "code",
   "execution_count": 5,
   "metadata": {},
   "outputs": [],
   "source": [
    "torch.manual_seed(42)    \n",
    "\n",
    "sat_dataset = SatelliteDataset(satellite_zarr_path=SATELLITE_ZARR_PATH)\n",
    "\n",
    "train_dataloader = torch.utils.data.DataLoader(\n",
    "    sat_dataset,\n",
    "    batch_size=32,\n",
    "    num_workers=2,  # TODO: Change?\n",
    "    pin_memory=False,  # TODO: Change.\n",
    "    worker_init_fn=worker_init_fn,\n",
    ")"
   ]
  },
  {
   "cell_type": "code",
   "execution_count": 6,
   "metadata": {},
   "outputs": [
    {
     "name": "stderr",
     "output_type": "stream",
     "text": [
      "INFO:power_perceiver:worker_id=0 has random number generator seed=6,909,045,637,428,952,499\n",
      "INFO:power_perceiver:worker_id=1 has random number generator seed=6,909,045,637,428,952,500\n",
      "INFO:power_perceiver:Before any selection, there are 621 days of data from 2020-01-01 00:05:00 to 2021-11-07 15:50:00\n",
      "INFO:power_perceiver:Before any selection, there are 621 days of data from 2020-01-01 00:05:00 to 2021-11-07 15:50:00\n",
      "INFO:power_perceiver:After filtering, there are 332 days of data from 2020-01-01 09:00:00 to 2020-12-31 15:55:00\n",
      "INFO:power_perceiver:After filtering, there are 332 days of data from 2020-01-01 09:00:00 to 2020-12-31 15:55:00\n"
     ]
    },
    {
     "name": "stdout",
     "output_type": "stream",
     "text": [
      "CPU times: user 16.6 ms, sys: 28.1 ms, total: 44.7 ms\n",
      "Wall time: 31.3 s\n"
     ]
    }
   ],
   "source": [
    "%%time\n",
    "for batch in train_dataloader:\n",
    "    break"
   ]
  },
  {
   "cell_type": "code",
   "execution_count": 8,
   "metadata": {},
   "outputs": [
    {
     "data": {
      "text/plain": [
       "torch.Size([32, 31, 1, 64, 64])"
      ]
     },
     "execution_count": 8,
     "metadata": {},
     "output_type": "execute_result"
    }
   ],
   "source": [
    "batch[BatchKey.hrvsatellite].shape"
   ]
  },
  {
   "cell_type": "code",
   "execution_count": null,
   "metadata": {},
   "outputs": [],
   "source": []
  }
 ],
 "metadata": {
  "kernelspec": {
   "display_name": "power_perceiver",
   "language": "python",
   "name": "power_perceiver"
  },
  "language_info": {
   "codemirror_mode": {
    "name": "ipython",
    "version": 3
   },
   "file_extension": ".py",
   "mimetype": "text/x-python",
   "name": "python",
   "nbconvert_exporter": "python",
   "pygments_lexer": "ipython3",
   "version": "3.10.4"
  },
  "orig_nbformat": 4
 },
 "nbformat": 4,
 "nbformat_minor": 2
}
