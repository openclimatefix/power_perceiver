{
 "cells": [
  {
   "cell_type": "code",
   "execution_count": 1,
   "metadata": {},
   "outputs": [],
   "source": [
    "# https://ipython.readthedocs.io/en/stable/config/extensions/autoreload.html\n",
    "%load_ext autoreload\n",
    "# Reload all modules (except those excluded by %aimport) every time before executing the Python code typed:\n",
    "%autoreload 2"
   ]
  },
  {
   "cell_type": "code",
   "execution_count": 63,
   "metadata": {},
   "outputs": [],
   "source": [
    "# General imports\n",
    "from pathlib import Path\n",
    "import numpy as np\n",
    "import xarray as xr\n",
    "from numbers import Number\n",
    "import matplotlib.pyplot as plt\n",
    "\n",
    "\n",
    "# power_perceiver imports\n",
    "from power_perceiver.dataset import NowcastingDataset\n",
    "from power_perceiver.consts import BatchKey\n",
    "from power_perceiver.data_loader import HRVSatellite, PV\n",
    "from power_perceiver.xr_batch_processor import SelectPVSystemsNearCenterOfImage\n",
    "from power_perceiver.data_loader.data_loader import NumpyBatch\n",
    "\n"
   ]
  },
  {
   "cell_type": "code",
   "execution_count": 3,
   "metadata": {},
   "outputs": [],
   "source": [
    "DATA_PATH = Path(\"~/dev/ocf/power_perceiver/data_for_testing/\").expanduser()\n",
    "assert DATA_PATH.exists()"
   ]
  },
  {
   "cell_type": "code",
   "execution_count": 4,
   "metadata": {},
   "outputs": [],
   "source": [
    "dataset = NowcastingDataset(\n",
    "    data_path=DATA_PATH,\n",
    "    data_loaders=[HRVSatellite(), PV()],\n",
    "    xr_batch_processors=[SelectPVSystemsNearCenterOfImage()],\n",
    ")"
   ]
  },
  {
   "cell_type": "code",
   "execution_count": 5,
   "metadata": {},
   "outputs": [],
   "source": [
    "BATCH_IDX = 0\n",
    "np_batch = dataset[BATCH_IDX]"
   ]
  },
  {
   "cell_type": "code",
   "execution_count": 6,
   "metadata": {},
   "outputs": [
    {
     "data": {
      "text/plain": [
       "['hrvsatellite',\n",
       " 'hrvsatellite_time_utc',\n",
       " 'hrvsatellite_x_osgb',\n",
       " 'hrvsatellite_y_osgb',\n",
       " 'pv',\n",
       " 'pv_system_row_number',\n",
       " 'pv_mask',\n",
       " 'pv_time_utc',\n",
       " 'pv_x_osgb',\n",
       " 'pv_y_osgb']"
      ]
     },
     "execution_count": 6,
     "metadata": {},
     "output_type": "execute_result"
    }
   ],
   "source": [
    "[key.value for key in np_batch.keys()]"
   ]
  },
  {
   "cell_type": "code",
   "execution_count": 56,
   "metadata": {},
   "outputs": [
    {
     "name": "stdout",
     "output_type": "stream",
     "text": [
      "CPU times: user 2.1 ms, sys: 0 ns, total: 2.1 ms\n",
      "Wall time: 1.98 ms\n"
     ]
    }
   ],
   "source": [
    "%%time\n",
    "\n",
    "def _get_min_per_example(coords_for_dim_from_all_modalities: dict[BatchKey, np.ndarray]) -> np.ndarray:\n",
    "    n_modalities = len(coords_for_dim_from_all_modalities)\n",
    "    assert n_modalities > 0\n",
    "    batch_size = list(coords_for_dim_from_all_modalities.values())[0].shape[0]\n",
    "\n",
    "    # Pre-allocate arrays to hold min values for each example of each modality's coordinates.\n",
    "    mins = np.full((batch_size, n_modalities), fill_value=np.NaN, dtype=np.float32)\n",
    "\n",
    "    for modality_i, coord_data_array in enumerate(coords_for_dim_from_all_modalities.values()):\n",
    "        coord_data_array = coord_data_array.reshape((batch_size, -1))\n",
    "        mins[:, modality_i] = np.nanmin(coord_data_array, axis=1)\n",
    "        \n",
    "    min_per_example = mins.min(axis=1)\n",
    "    assert min_per_example.shape[0] == batch_size\n",
    "    return np.expand_dims(min_per_example, axis=-1)\n",
    "\n",
    "\n",
    "def _rescale_coords_for_single_dim_to_approx_0_to_1(\n",
    "        coords_for_dim_from_all_modalities: dict[BatchKey, np.ndarray],\n",
    "        length: Number,\n",
    "    ) -> dict[str, np.ndarray]:\n",
    "    \"\"\"Rescale the coords for a single dimension, across all modalities.\n",
    "    \n",
    "    Args:\n",
    "        length: The approximate length of the dimension across an example. For example,\n",
    "            if the dimension is x_osgb then the length will be the distance in meters\n",
    "            from the left to the right side of the example. Must be positive.\n",
    "            \n",
    "    Returns:\n",
    "        Dictionary where the keys are \"<BatchKey.value>_rescaled\", and the values\n",
    "        are a numpy array of the rescaled coords. The minimum value is guaranteed to be\n",
    "        0 or larger. The maximum value will depend on the length.\n",
    "    \"\"\"\n",
    "    assert length > 0\n",
    "    min_per_example = _get_min_per_example(coords_for_dim_from_all_modalities)\n",
    "    rescaled_arrays: dict[str, np.ndarray] = {}\n",
    "    for key, array in coords_for_dim_from_all_modalities.items():\n",
    "        if \"satellite\" in key.value and \"time\" not in key.value:\n",
    "            # Handle 2-dimensional OSGB coords on the satellite imagery\n",
    "            assert len(array.shape) == 3, f\"Expected satellite coord to have 3 dims, not {len(array.shape)} {key.value=}\"\n",
    "            _min_per_example = np.expand_dims(min_per_example, axis=-1)\n",
    "        else:\n",
    "            _min_per_example = min_per_example\n",
    "            \n",
    "        rescaled_array = (array - _min_per_example) / length\n",
    "        rescaled_arrays[f\"{key.value}_rescaled\"] = rescaled_array\n",
    "\n",
    "    return rescaled_arrays\n",
    "\n",
    "\n",
    "def _rescale_coords_for_all_dims_to_approx_0_to_1(\n",
    "        np_batch: NumpyBatch,\n",
    "        lengths: dict[str, Number],\n",
    "    ) -> dict[str, np.ndarray]:\n",
    "    \"\"\"Rescale coords for all dimensions, across all modalities.\n",
    "    \n",
    "    Args:\n",
    "        lengths: The approximate lengths of each dimension across an example. For example,\n",
    "            if the dimension is x_osgb then the length will be the distance in meters\n",
    "            from the left to the right side of the example. If the dimension is time_utc\n",
    "            then the length is the total duration in seconds of the example.\n",
    "            The keys must be x_osgb, y_osgb, or time_utc.\n",
    "            We need to use constant lengths across all examples so the spatial encoding\n",
    "            is always proportional to the \"real world\" length across all examples.\n",
    "            If we didn't do that, a spatial encoding of 1 would represent different \"real world\"\n",
    "            distances across examples. This would almost certainly be harmful, especially\n",
    "            because we're expecting the model to learn to do some basic geometry!\n",
    "    \"\"\"\n",
    "    rescaled_coords: dict[BatchKey, np.ndarray] = {}\n",
    "    for dim_name in (\"x_osgb\", \"y_osgb\", \"time_utc\"):\n",
    "        coords_for_dim_from_all_modalities: dict[BatchKey, np.ndarray] = {\n",
    "            key: value.astype(np.float32) for key, value in np_batch.items() if key.value.endswith(dim_name)}\n",
    "        length = lengths[dim_name]\n",
    "        rescaled_coords_for_dim = _rescale_coords_for_single_dim_to_approx_0_to_1(\n",
    "            coords_for_dim_from_all_modalities=coords_for_dim_from_all_modalities,\n",
    "            length=length)\n",
    "        rescaled_coords.update(rescaled_coords_for_dim)\n",
    "    return rescaled_coords\n",
    "\n",
    "\n",
    "rescaled_coords = _rescale_coords_for_all_dims_to_approx_0_to_1(\n",
    "    np_batch=np_batch,\n",
    "    lengths=dict(x_osgb=120_000, y_osgb=200_000, time_utc=60*5*31)\n",
    "    )"
   ]
  },
  {
   "cell_type": "code",
   "execution_count": 57,
   "metadata": {},
   "outputs": [
    {
     "data": {
      "text/plain": [
       "{'hrvsatellite_x_osgb_rescaled': 0.0,\n",
       " 'pv_x_osgb_rescaled': 0.18888229166666667,\n",
       " 'hrvsatellite_y_osgb_rescaled': 0.0,\n",
       " 'pv_y_osgb_rescaled': 0.02517484375,\n",
       " 'hrvsatellite_time_utc_rescaled': 0.0,\n",
       " 'pv_time_utc_rescaled': 0.0}"
      ]
     },
     "execution_count": 57,
     "metadata": {},
     "output_type": "execute_result"
    }
   ],
   "source": [
    "{key: np.nanmin(arr) for key, arr in rescaled_coords.items()}"
   ]
  },
  {
   "cell_type": "code",
   "execution_count": 58,
   "metadata": {},
   "outputs": [
    {
     "data": {
      "text/plain": [
       "{'hrvsatellite_x_osgb_rescaled': 0.8786345052083333,\n",
       " 'pv_x_osgb_rescaled': 0.5974703125,\n",
       " 'hrvsatellite_y_osgb_rescaled': 0.9128834375,\n",
       " 'pv_y_osgb_rescaled': 0.7325675,\n",
       " 'hrvsatellite_time_utc_rescaled': 0.9772043,\n",
       " 'pv_time_utc_rescaled': 0.9772043}"
      ]
     },
     "execution_count": 58,
     "metadata": {},
     "output_type": "execute_result"
    }
   ],
   "source": [
    "{key: np.nanmax(arr) for key, arr in rescaled_coords.items()}"
   ]
  },
  {
   "cell_type": "code",
   "execution_count": 49,
   "metadata": {},
   "outputs": [
    {
     "data": {
      "text/plain": [
       "100"
      ]
     },
     "execution_count": 49,
     "metadata": {},
     "output_type": "execute_result"
    }
   ],
   "source": [
    "# Next: Plot the original coords and the rescaled coords\n",
    "550 - 450"
   ]
  },
  {
   "cell_type": "code",
   "execution_count": 65,
   "metadata": {},
   "outputs": [
    {
     "data": {
      "text/plain": [
       "<matplotlib.collections.PathCollection at 0x7f4628936a60>"
      ]
     },
     "execution_count": 65,
     "metadata": {},
     "output_type": "execute_result"
    },
    {
     "data": {
      "image/png": "[encoded data removed]",
      "text/plain": [
       "<Figure size 432x288 with 1 Axes>"
      ]
     },
     "metadata": {
      "needs_background": "light"
     },
     "output_type": "display_data"
    }
   ],
   "source": [
    "EXAMPLE_IDX = 0\n",
    "plt.scatter(\n",
    "    x=rescaled_coords['pv_x_osgb_rescaled'][EXAMPLE_IDX],\n",
    "    y=rescaled_coords['pv_y_osgb_rescaled'][EXAMPLE_IDX],\n",
    ")"
   ]
  },
  {
   "cell_type": "code",
   "execution_count": 68,
   "metadata": {},
   "outputs": [
    {
     "data": {
      "text/plain": [
       "<matplotlib.collections.PathCollection at 0x7f4628837430>"
      ]
     },
     "execution_count": 68,
     "metadata": {},
     "output_type": "execute_result"
    },
    {
     "data": {
      "image/png": "[encoded data removed]",
      "text/plain": [
       "<Figure size 432x288 with 1 Axes>"
      ]
     },
     "metadata": {
      "needs_background": "light"
     },
     "output_type": "display_data"
    }
   ],
   "source": [
    "plt.scatter(\n",
    "    x=np_batch[BatchKey.pv_x_osgb][EXAMPLE_IDX],\n",
    "    y=np_batch[BatchKey.pv_y_osgb][EXAMPLE_IDX],\n",
    ")"
   ]
  },
  {
   "cell_type": "code",
   "execution_count": null,
   "metadata": {},
   "outputs": [],
   "source": []
  }
 ],
 "metadata": {
  "interpreter": {
   "hash": "6e018056da7ac22974c0de454ad66e6f150c494c7b54611c2027650045c28434"
  },
  "kernelspec": {
   "display_name": "Python 3.9.10 ('power_perceiver')",
   "language": "python",
   "name": "python3"
  },
  "language_info": {
   "codemirror_mode": {
    "name": "ipython",
    "version": 3
   },
   "file_extension": ".py",
   "mimetype": "text/x-python",
   "name": "python",
   "nbconvert_exporter": "python",
   "pygments_lexer": "ipython3",
   "version": "3.9.12"
  },
  "orig_nbformat": 4
 },
 "nbformat": 4,
 "nbformat_minor": 2
}
